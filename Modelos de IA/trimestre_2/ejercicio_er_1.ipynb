{
 "cells": [
  {
   "cell_type": "markdown",
   "metadata": {},
   "source": [
    "1. Escribe un script para verificar que una cadena contenga solo un determinado conjunto de caracteres\n",
    "(en este caso az, AZ y 0-9)."
   ]
  },
  {
   "cell_type": "code",
   "execution_count": 8,
   "metadata": {},
   "outputs": [
    {
     "name": "stdout",
     "output_type": "stream",
     "text": [
      "['a', 's', 'd', 'i', 'h', 'o', 'a', 'A', 'm', 'l', 'k', 's', 'd', 'D', 'D', 'K', 'S', '3', '2', '8', '3', '2', '3']\n"
     ]
    }
   ],
   "source": [
    "import re\n",
    "\n",
    "s = 'asdihoaAmlksdDDKS328. 32.3'\n",
    "\n",
    "match = re.findall(r'[a-z|A-Z|0-9]', s)\n",
    "print(match)"
   ]
  },
  {
   "cell_type": "markdown",
   "metadata": {},
   "source": [
    "2. Escribe un script que coincida con una cadena que tenga una a seguida de cero o más b."
   ]
  },
  {
   "cell_type": "code",
   "execution_count": 10,
   "metadata": {},
   "outputs": [
    {
     "name": "stdout",
     "output_type": "stream",
     "text": [
      "['a', 'a', 'abb', 'ab', 'a', 'abb']\n"
     ]
    }
   ],
   "source": [
    "s = 'aajjdfoabbsdablkfraabb'\n",
    "\n",
    "match = re.findall(r'ab*', s)\n",
    "print(match)"
   ]
  },
  {
   "cell_type": "markdown",
   "metadata": {},
   "source": [
    "3. Escribe un script que coincida con una cadena que tenga una a seguida de una o más b."
   ]
  },
  {
   "cell_type": "code",
   "execution_count": 15,
   "metadata": {},
   "outputs": [
    {
     "name": "stdout",
     "output_type": "stream",
     "text": [
      "['a', 'a', 'abb', 'ab', 'a', 'abb']\n"
     ]
    }
   ],
   "source": [
    "s = 'aajjdfoabbsdablkfraabb'\n",
    "\n",
    "match = re.findall(r'ab*', s)\n",
    "print(match)"
   ]
  },
  {
   "cell_type": "markdown",
   "metadata": {},
   "source": [
    "4. Escribe un script que coincida con una cadena que tenga una a seguida de cero o una 'b'."
   ]
  },
  {
   "cell_type": "code",
   "execution_count": 14,
   "metadata": {},
   "outputs": [
    {
     "name": "stdout",
     "output_type": "stream",
     "text": [
      "['a', 'a', 'ab', 'ab', 'a', 'ab']\n"
     ]
    }
   ],
   "source": [
    "s = 'aajjdfoabbsdablkfraabb'\n",
    "\n",
    "match = re.findall(r'ab?', s)\n",
    "print(match)"
   ]
  },
  {
   "cell_type": "markdown",
   "metadata": {},
   "source": [
    "5. Escribe un script que coincida con una cadena que tenga una a seguida de tres 'b'."
   ]
  },
  {
   "cell_type": "code",
   "execution_count": 13,
   "metadata": {},
   "outputs": [
    {
     "name": "stdout",
     "output_type": "stream",
     "text": [
      "['abbb']\n"
     ]
    }
   ],
   "source": [
    "s = 'aajjdfoabbsdablkfraabbb'\n",
    "\n",
    "match = re.findall(r'ab{3}', s)\n",
    "print(match)"
   ]
  },
  {
   "cell_type": "markdown",
   "metadata": {},
   "source": [
    "6. Escribe un script que coincida con una cadena que tenga una a seguida de dos o tres 'b'."
   ]
  },
  {
   "cell_type": "code",
   "execution_count": 20,
   "metadata": {},
   "outputs": [
    {
     "name": "stdout",
     "output_type": "stream",
     "text": [
      "['abb', 'abbb']\n"
     ]
    }
   ],
   "source": [
    "s = 'aajjdfoabbsdablkfraabbb'\n",
    "\n",
    "match = re.findall(r'ab{2,3}', s)\n",
    "print(match)"
   ]
  },
  {
   "cell_type": "markdown",
   "metadata": {},
   "source": [
    "7. Escribe un script para encontrar secuencias de letras minúsculas unidas por un guión bajo"
   ]
  },
  {
   "cell_type": "code",
   "execution_count": 19,
   "metadata": {},
   "outputs": [
    {
     "name": "stdout",
     "output_type": "stream",
     "text": [
      "['_b', '_r']\n"
     ]
    }
   ],
   "source": [
    "s = 'aajjdfoa_bbsdablkf_raabbb'\n",
    "\n",
    "match = re.findall(r'_\\w', s)\n",
    "print(match)"
   ]
  },
  {
   "cell_type": "markdown",
   "metadata": {},
   "source": [
    "8. Escribe un script para encontrar las secuencias de una letra mayúscula seguida de letras minúsculas."
   ]
  },
  {
   "cell_type": "code",
   "execution_count": 28,
   "metadata": {},
   "outputs": [
    {
     "name": "stdout",
     "output_type": "stream",
     "text": [
      "['Aa']\n"
     ]
    }
   ],
   "source": [
    "s = 'aajjdfoa_bbsdAablkf_raabbb'\n",
    "\n",
    "match = re.findall(r'[A-Z][a-z]', s)\n",
    "print(match)"
   ]
  },
  {
   "cell_type": "markdown",
   "metadata": {},
   "source": [
    "9. Escribe un script que coincida con una cadena que tenga una 'a' seguida de cualquier cosa que\n",
    "termine en 'b'."
   ]
  },
  {
   "cell_type": "code",
   "execution_count": 43,
   "metadata": {},
   "outputs": [
    {
     "name": "stdout",
     "output_type": "stream",
     "text": [
      "['ab']\n"
     ]
    }
   ],
   "source": [
    "s = 'abaddsbasddbadvab'\n",
    "\n",
    "match = re.findall(r'a*b$', s)\n",
    "print(match)"
   ]
  },
  {
   "cell_type": "markdown",
   "metadata": {},
   "source": [
    "10. Escribe un script que haga coincidir una palabra al principio de una cadena"
   ]
  },
  {
   "cell_type": "code",
   "execution_count": 45,
   "metadata": {},
   "outputs": [
    {
     "name": "stdout",
     "output_type": "stream",
     "text": [
      "['abaddsbasddba']\n"
     ]
    }
   ],
   "source": [
    "s = 'abaddsbasddba dvab'\n",
    "\n",
    "match = re.findall(r'^[a-zA-Z]*', s)\n",
    "print(match)"
   ]
  }
 ],
 "metadata": {
  "kernelspec": {
   "display_name": "ia",
   "language": "python",
   "name": "python3"
  },
  "language_info": {
   "codemirror_mode": {
    "name": "ipython",
    "version": 3
   },
   "file_extension": ".py",
   "mimetype": "text/x-python",
   "name": "python",
   "nbconvert_exporter": "python",
   "pygments_lexer": "ipython3",
   "version": "3.8.18"
  }
 },
 "nbformat": 4,
 "nbformat_minor": 2
}
