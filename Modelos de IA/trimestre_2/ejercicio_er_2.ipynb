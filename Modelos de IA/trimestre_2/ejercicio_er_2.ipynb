{
 "cells": [
  {
   "cell_type": "markdown",
   "metadata": {},
   "source": [
    "38. Escribe un script para extraer valores entre comillas de una cadena."
   ]
  },
  {
   "cell_type": "code",
   "execution_count": 3,
   "metadata": {},
   "outputs": [
    {
     "name": "stdout",
     "output_type": "stream",
     "text": [
      "['texto', 'prueba']\n"
     ]
    }
   ],
   "source": [
    "import re\n",
    "\n",
    "s = 'Esto es un \"texto\" de \"prueba\" nada más'\n",
    "\n",
    "match = re.findall(r'\\\"(.*?)\\\"', s)\n",
    "print(match)"
   ]
  },
  {
   "cell_type": "code",
   "execution_count": 4,
   "metadata": {},
   "outputs": [
    {
     "name": "stdout",
     "output_type": "stream",
     "text": [
      "['texto\" de \"prueba']\n"
     ]
    }
   ],
   "source": [
    "s = 'Esto es un \"texto\" de \"prueba\" nada más'\n",
    "\n",
    "match = re.findall(r'\\\"(.*)\\\"', s)  # Sin el interrogante coge todo continuo\n",
    "print(match)"
   ]
  },
  {
   "cell_type": "markdown",
   "metadata": {},
   "source": [
    "## Substituir -> sub"
   ]
  },
  {
   "cell_type": "markdown",
   "metadata": {},
   "source": [
    "39. Escribe un script para eliminar múltiples espacios de una cadena."
   ]
  },
  {
   "cell_type": "code",
   "execution_count": 6,
   "metadata": {},
   "outputs": [
    {
     "name": "stdout",
     "output_type": "stream",
     "text": [
      "Esto es un \"texto\" de \"prueba\" nada más\n"
     ]
    }
   ],
   "source": [
    "s = 'Esto es un     \"texto\" de   \"prueba\" nada más'\n",
    "\n",
    "match = re.sub(r'(  +)', \" \", s)  # Sin el interrogante coge todo continuo\n",
    "print(match)"
   ]
  },
  {
   "cell_type": "markdown",
   "metadata": {},
   "source": [
    "41. Escribe un script para eliminar todo excepto los caracteres alfanuméricos de una cadena."
   ]
  },
  {
   "cell_type": "code",
   "execution_count": 7,
   "metadata": {},
   "outputs": [
    {
     "name": "stdout",
     "output_type": "stream",
     "text": [
      "Esto es un  texto  de    prueba  nada  más\n"
     ]
    }
   ],
   "source": [
    "s = 'Esto es un \"texto\" de ::\"prueba\" nada !más'\n",
    "\n",
    "match = re.sub(r'[^\\w ]', \" \", s)  \n",
    "print(match)"
   ]
  },
  {
   "cell_type": "markdown",
   "metadata": {},
   "source": [
    "46. Escribe un script para encontrar todos los adverbios y sus posiciones en una oración determinada."
   ]
  },
  {
   "cell_type": "code",
   "execution_count": 12,
   "metadata": {},
   "outputs": [
    {
     "name": "stdout",
     "output_type": "stream",
     "text": [
      "----------------\n",
      "duramente\n",
      "19\n",
      "28\n",
      "----------------\n",
      "malamente\n",
      "31\n",
      "40\n"
     ]
    }
   ],
   "source": [
    "s = 'Esto es un \"texto\" duramente y malamente de ::\"prueba\" nada !más'\n",
    "\n",
    "for m in re.finditer(r'\\w+mente', s):\n",
    "    print('----------------')\n",
    "    print(m.group())\n",
    "    print(m.start()) # El índice donde empieza\n",
    "    print(m.end())  # El índice donde acaba"
   ]
  }
 ],
 "metadata": {
  "kernelspec": {
   "display_name": "ia",
   "language": "python",
   "name": "python3"
  },
  "language_info": {
   "codemirror_mode": {
    "name": "ipython",
    "version": 3
   },
   "file_extension": ".py",
   "mimetype": "text/x-python",
   "name": "python",
   "nbconvert_exporter": "python",
   "pygments_lexer": "ipython3",
   "version": "3.8.18"
  }
 },
 "nbformat": 4,
 "nbformat_minor": 2
}
