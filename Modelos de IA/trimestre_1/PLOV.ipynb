{
 "cells": [
  {
   "cell_type": "code",
   "execution_count": 1,
   "metadata": {},
   "outputs": [],
   "source": [
    "from Grafo import Grafo\n",
    "import pprint\n",
    "import matplotlib.pyplot as plt\n",
    "import numpy as np"
   ]
  },
  {
   "cell_type": "code",
   "execution_count": 3,
   "metadata": {},
   "outputs": [],
   "source": [
    "class Plov(Grafo):\n",
    "  def es_posicion_valida(self, pastor, lobo, oveja, verdura):\n",
    "    if lobo == oveja    and pastor != oveja: return False\n",
    "    if verdura == oveja and pastor != oveja: return False\n",
    "    return True\n",
    "\n",
    "\n",
    "  def genera_sucesores(self, nodo):\n",
    "    hijos = []\n",
    "    pastor = (int)(nodo[0])\n",
    "    lobo = (int)(nodo[1])\n",
    "    oveja = (int)(nodo[2])\n",
    "    verdura = (int)(nodo[3])\n",
    "\n",
    "    pastor = 1 - pastor\n",
    "    if self.es_posicion_valida(pastor, lobo, oveja, verdura):\n",
    "      hijos.append(f\"{pastor}{lobo}{oveja}{verdura}\")\n",
    "\n",
    "    lobo = 1-lobo\n",
    "    if self.es_posicion_valida(pastor, lobo, oveja, verdura):\n",
    "      hijos.append(f\"{pastor}{lobo}{oveja}{verdura}\")\n",
    "    lobo = 1-lobo\n",
    "\n",
    "    oveja = 1-oveja\n",
    "    if self.es_posicion_valida(pastor, lobo, oveja, verdura):\n",
    "      hijos.append(f\"{pastor}{lobo}{oveja}{verdura}\")\n",
    "    oveja = 1-oveja\n",
    "\n",
    "    verdura = 1-verdura\n",
    "    if self.es_posicion_valida(pastor, lobo, oveja, verdura):\n",
    "      hijos.append(f\"{pastor}{lobo}{oveja}{verdura}\")\n",
    "    verdura = 1-verdura\n",
    "\n",
    "    return hijos\n",
    "\n",
    "\n",
    "  def es_solucion(self, nodo_actual):\n",
    "      return nodo_actual == \"1111\""
   ]
  },
  {
   "cell_type": "code",
   "execution_count": 4,
   "metadata": {},
   "outputs": [
    {
     "name": "stdout",
     "output_type": "stream",
     "text": [
      "['0000', '1010', '0010', '1110', '0100', '1101', '0101', '1111']\n"
     ]
    }
   ],
   "source": [
    "g = Plov()\n",
    "g.recorre_grafo(nodo_inicial= \"0000\", modo=\"anchura\")\n",
    "ruta = g.genera_ruta('1111')\n",
    "print(ruta[::-1])"
   ]
  }
 ],
 "metadata": {
  "kernelspec": {
   "display_name": "ia",
   "language": "python",
   "name": "python3"
  },
  "language_info": {
   "codemirror_mode": {
    "name": "ipython",
    "version": 3
   },
   "file_extension": ".py",
   "mimetype": "text/x-python",
   "name": "python",
   "nbconvert_exporter": "python",
   "pygments_lexer": "ipython3",
   "version": "3.8.18"
  }
 },
 "nbformat": 4,
 "nbformat_minor": 2
}
