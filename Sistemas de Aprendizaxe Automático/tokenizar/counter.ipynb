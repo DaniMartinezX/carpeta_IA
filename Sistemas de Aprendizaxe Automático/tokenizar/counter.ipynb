{
 "cells": [
  {
   "cell_type": "markdown",
   "metadata": {},
   "source": [
    "# Bolsa de palabras"
   ]
  },
  {
   "cell_type": "markdown",
   "metadata": {},
   "source": [
    "Todo lo que se necesita para procesado de texto:"
   ]
  },
  {
   "cell_type": "code",
   "execution_count": 8,
   "metadata": {},
   "outputs": [],
   "source": [
    "!pip install -q transformers"
   ]
  },
  {
   "cell_type": "code",
   "execution_count": 15,
   "metadata": {},
   "outputs": [],
   "source": [
    "import re\n",
    "from collections import Counter\n",
    "def txt_to_bag_of_words(text):\n",
    "    \"\"\"\n",
    "    Función que le pasamos un texto\n",
    "    y nos devuelve un diccionario con \n",
    "    el número de veces que aparece.\n",
    "    \"\"\"\n",
    "    text = text.lower()\n",
    "\n",
    "    # Sustituir con expresiones regulares\n",
    "    text = re.sub(r'[^\\w\\s]', ' ', text)\n",
    "\n",
    "    # Lista de palabras\n",
    "    words = text.split()\n",
    "\n",
    "    # De la lista de palabras crea un diccionario con el número de veces que se repiten en el listado. \n",
    "    bow = Counter(words)\n",
    "\n",
    "    print(bow)\n",
    "    return bow\n",
    "\n",
    "\n",
    "def distancia_jacard(bow1, bow2):\n",
    "    keys1 = set(bow1.keys())\n",
    "    keys2 = set(bow2.keys())\n",
    "    interseccion = (keys1.intersection(keys2))\n",
    "    union = keys1.union(keys2)\n",
    "    d = 1 - (len(interseccion) / len(union))\n",
    "    return d\n",
    "\n",
    "\n",
    "\n",
    "\n"
   ]
  },
  {
   "cell_type": "code",
   "execution_count": 16,
   "metadata": {},
   "outputs": [
    {
     "name": "stdout",
     "output_type": "stream",
     "text": [
      "Counter({'de': 12, 'en': 9, 'la': 7, 'y': 5, 'madrid': 3, 'el': 3, 'como': 3, 'príncipe': 2, 'su': 2, 'se': 2, 'al': 2, 'un': 2, 'por': 2, 'universidad': 2, 'nació': 1, 'durante': 1, 'dictadura': 1, 'francisco': 1, 'franco': 1, 'siendo': 1, 'tercer': 1, 'hijo': 1, 'único': 1, 'varón': 1, 'del': 1, 'juan': 1, 'carlos': 1, 'borbón': 1, 'princesa': 1, 'sofía': 1, 'grecia': 1, 'dos': 1, 'años': 1, 'después': 1, 'proclamación': 1, 'padre': 1, 'rey': 1, '1977': 1, 'le': 1, 'concedió': 1, 'oficialmente': 1, 'título': 1, 'asturias': 1, '7': 1, 'así': 1, 'resto': 1, 'títulos': 1, 'que': 1, 'históricamente': 1, 'han': 1, 'pertenecido': 1, 'heredero': 1, 'corona': 1, 'fue': 1, 'formalmente': 1, 'proclamado': 1, 'tal': 1, 'ante': 1, 'las': 1, 'cortes': 1, '1986': 1, 'cumplir': 1, 'mayoría': 1, 'edad': 1, 'tras': 1, 'educación': 1, 'básica': 1, 'estudiar': 1, 'bachillerato': 1, 'internado': 1, 'canadá': 1, 'licenció': 1, 'derecho': 1, 'autónoma': 1, 'obtuvo': 1, 'máster': 1, 'relaciones': 1, 'internacionales': 1, 'georgetown': 1, 'washington': 1, 'd': 1, 'c': 1})\n",
      "Counter({'la': 8, 'de': 6, 'a': 5, 'en': 5, 'y': 5, 'su': 3, 'como': 3, 'las': 3, 'felipe': 3, 'con': 3, 'militares': 2, 'del': 2, 'ejército': 2, 'dos': 2, 'sus': 2, 'quien': 2, 'para': 1, 'preparar': 1, 'papel': 1, 'futuro': 1, 'mando': 1, 'supremo': 1, 'fuerzas': 1, 'armadas': 1, 'accedió': 1, 'academias': 1, 'primero': 1, '1985': 1, 'completó': 1, 'formación': 1, 'militar': 1, 'durante': 1, 'los': 1, 'años': 1, 'siguientes': 1, 'armada': 1, 'el': 1, 'aire': 1, 'tras': 1, 'finalizar': 1, 'estudios': 1, 'civiles': 1, 'asumió': 1, 'funciones': 1, 'oficiales': 1, 'príncipe': 1, 'heredero': 1, 'representando': 1, 'padre': 1, 'diferentes': 1, 'actos': 1, 'sociales': 1, 'e': 1, 'institucionales': 1, 'tales': 1, 'presidencia': 1, 'fundaciones': 1, 'benéficas': 1, 'o': 1, 'asistencia': 1, 'tomas': 1, 'posesión': 1, 'líderes': 1, 'latinoamericanos': 1, 'uno': 1, 'estos': 1, 'eventos': 1, 'prensa': 1, 'conoció': 1, 'periodista': 1, 'letizia': 1, 'ortiz': 1, 'se': 1, 'casó': 1, '2004': 1, 'tiene': 1, 'hijas': 1, 'princesa': 1, 'leonor': 1, 'infanta': 1, 'sofía': 1})\n"
     ]
    }
   ],
   "source": [
    "txt1 = \"Nació en Madrid, durante la dictadura de Francisco Franco, siendo el tercer hijo y único varón del príncipe Juan Carlos de Borbón y la princesa Sofía de Grecia. Dos años después de la proclamación de su padre como rey, en 1977 se le concedió oficialmente el título de príncipe de Asturias,7​ así como el resto de títulos que históricamente han pertenecido al heredero de la Corona, y fue formalmente proclamado como tal ante las Cortes en 1986, al cumplir la mayoría de edad. Tras su educación básica en Madrid y estudiar bachillerato en un internado en Canadá, se licenció en Derecho por la Universidad Autónoma de Madrid y obtuvo un máster en Relaciones Internacionales por la Universidad de Georgetown, en Washington D. C.\"\n",
    "txt2 = \"Para preparar su papel como futuro mando supremo de las Fuerzas Armadas, Felipe accedió a las Academias militares: primero a la del Ejército en 1985 y completó su formación militar durante los dos años siguientes en las de la Armada y el Ejército del Aire. Tras finalizar sus estudios civiles y militares, Felipe asumió sus funciones oficiales como príncipe heredero representando a su padre en diferentes actos sociales e institucionales, tales como la presidencia de fundaciones benéficas o la asistencia a tomas de posesión de líderes latinoamericanos. En uno de estos eventos con la prensa, Felipe conoció a la periodista Letizia Ortiz, con quien se casó en 2004 y con quien tiene dos hijas, la princesa Leonor, y la infanta Sofía. \"\n",
    "\n",
    "bow1 = txt_to_bag_of_words(txt1)\n",
    "bow2 = txt_to_bag_of_words(txt2)\n",
    "\n",
    "d12 = distancia_jacard(bow1, bow2)"
   ]
  },
  {
   "cell_type": "code",
   "execution_count": 17,
   "metadata": {},
   "outputs": [
    {
     "name": "stdout",
     "output_type": "stream",
     "text": [
      "0.8680555555555556\n"
     ]
    }
   ],
   "source": [
    "print(d12)"
   ]
  }
 ],
 "metadata": {
  "kernelspec": {
   "display_name": "ia",
   "language": "python",
   "name": "python3"
  },
  "language_info": {
   "codemirror_mode": {
    "name": "ipython",
    "version": 3
   },
   "file_extension": ".py",
   "mimetype": "text/x-python",
   "name": "python",
   "nbconvert_exporter": "python",
   "pygments_lexer": "ipython3",
   "version": "3.8.18"
  }
 },
 "nbformat": 4,
 "nbformat_minor": 2
}
