{
 "cells": [
  {
   "cell_type": "code",
   "execution_count": 1,
   "metadata": {},
   "outputs": [],
   "source": [
    "!pip install -q gensim"
   ]
  },
  {
   "cell_type": "markdown",
   "metadata": {},
   "source": [
    "# Embedding\n",
    "Representación de una palabra con un vector"
   ]
  },
  {
   "cell_type": "code",
   "execution_count": 2,
   "metadata": {},
   "outputs": [],
   "source": [
    "from gensim.models import Word2Vec\n",
    "import numpy as np\n",
    "from nltk.tokenize import word_tokenize\n",
    "import nltk"
   ]
  },
  {
   "cell_type": "code",
   "execution_count": 3,
   "metadata": {},
   "outputs": [
    {
     "name": "stderr",
     "output_type": "stream",
     "text": [
      "[nltk_data] Downloading package punkt to\n",
      "[nltk_data]     C:\\Users\\daniel.martinezcarre\\AppData\\Roaming\\nltk_dat\n",
      "[nltk_data]     a...\n",
      "[nltk_data]   Package punkt is already up-to-date!\n"
     ]
    },
    {
     "data": {
      "text/plain": [
       "True"
      ]
     },
     "execution_count": 3,
     "metadata": {},
     "output_type": "execute_result"
    }
   ],
   "source": [
    "nltk.download(\"punkt\")"
   ]
  },
  {
   "cell_type": "code",
   "execution_count": 4,
   "metadata": {},
   "outputs": [],
   "source": [
    "text1 = \"The Titanic sailed with hope and illusion to cross the Atlantic.\"\n",
    "text2 = \"The sinking of the Titanic was one of the greatest maritime tragedies.\"\n",
    "text3 = \"\"\"\n",
    "En 1912, el Titanic zarpó con la esperanza y la ilusión de cruzar el Atlántico\n",
    "de una manera nunca antes vista, encapsulando el espíritu optimista de una era\n",
    "que creía fervientemente en el progreso humano y la tecnología.\n",
    "Esa esperanza se convirtió en desesperación en cuestión de momentos cuando, en una fría noche de abril, un iceberg se interpuso en su camino.\n",
    "Los sistemas de seguridad, que se consideraban a prueba de fallos,\n",
    "se mostraron trágicamente inadecuados, ya que no había suficientes botes salvavidas para todos los pasajeros.\n",
    "Las consecuencias fueron devastadoras: más de mil quinientas almas se sumergieron en el helado abrazo del mar, en un suceso que sirvió como un doloroso recordatorio de la vulnerabilidad humana ante las fuerzas de la naturaleza.\n",
    "\"\"\"\n",
    "\n",
    "token1 = word_tokenize(text1.lower())\n",
    "token2 = word_tokenize(text2.lower())\n",
    "token3 = word_tokenize(text3.lower())\n",
    "\n",
    "model = Word2Vec([token1,token2], vector_size=10, window=5,min_count=1, sg=0)"
   ]
  },
  {
   "cell_type": "code",
   "execution_count": 5,
   "metadata": {},
   "outputs": [
    {
     "data": {
      "text/plain": [
       "array([ 0.07380505, -0.01533471, -0.04536613,  0.06554051, -0.0486016 ,\n",
       "       -0.01816018,  0.0287658 ,  0.00991874, -0.08285215, -0.09448818],\n",
       "      dtype=float32)"
      ]
     },
     "execution_count": 5,
     "metadata": {},
     "output_type": "execute_result"
    }
   ],
   "source": [
    "model.wv[\"titanic\"]"
   ]
  },
  {
   "cell_type": "code",
   "execution_count": 6,
   "metadata": {},
   "outputs": [
    {
     "data": {
      "text/plain": [
       "['the',\n",
       " 'titanic',\n",
       " 'of',\n",
       " '.',\n",
       " 'to',\n",
       " 'sailed',\n",
       " 'with',\n",
       " 'hope',\n",
       " 'and',\n",
       " 'illusion',\n",
       " 'tragedies',\n",
       " 'maritime',\n",
       " 'atlantic',\n",
       " 'sinking',\n",
       " 'was',\n",
       " 'one',\n",
       " 'greatest',\n",
       " 'cross']"
      ]
     },
     "execution_count": 6,
     "metadata": {},
     "output_type": "execute_result"
    }
   ],
   "source": [
    "model.wv.index_to_key"
   ]
  },
  {
   "cell_type": "code",
   "execution_count": 7,
   "metadata": {},
   "outputs": [
    {
     "data": {
      "text/plain": [
       "array([[-0.00533529,  0.00234108,  0.05100109,  0.09007515, -0.09300441,\n",
       "        -0.07114274,  0.06462159,  0.0897437 , -0.05013351, -0.03758188],\n",
       "       [ 0.07380505, -0.01533471, -0.04536613,  0.06554051, -0.0486016 ,\n",
       "        -0.01816018,  0.0287658 ,  0.00991874, -0.08285215, -0.09448818],\n",
       "       [ 0.07314318,  0.05068447,  0.06756418,  0.00761333,  0.06352984,\n",
       "        -0.03403559, -0.00944484,  0.05769715, -0.07519794, -0.03932276],\n",
       "       [-0.07511582, -0.00930042,  0.09538119, -0.07319167, -0.02333769,\n",
       "        -0.01937741,  0.08077437, -0.05930896,  0.00045162, -0.04753734],\n",
       "       [-0.09605531,  0.05007488, -0.08771511, -0.04397089, -0.00030261,\n",
       "        -0.00293051, -0.07658089,  0.09618904,  0.04986942,  0.0924733 ],\n",
       "       [-0.08149301,  0.04492383, -0.04143354,  0.00814035,  0.08508364,\n",
       "        -0.04457033,  0.0452612 , -0.0678119 , -0.03539221,  0.09415707],\n",
       "       [-0.01577653,  0.00321372, -0.0414063 , -0.07682689, -0.01508008,\n",
       "         0.02469795, -0.00888027,  0.05533662, -0.02742977,  0.02260065],\n",
       "       [ 0.05458641,  0.08346278, -0.01455195, -0.09215653,  0.0437271 ,\n",
       "         0.00574056,  0.074413  , -0.00805696, -0.02633372, -0.08748147],\n",
       "       [-0.00856557,  0.02826563,  0.05401429,  0.07052656, -0.05703121,\n",
       "         0.0185882 ,  0.06088864, -0.04798051, -0.03107261,  0.0679763 ],\n",
       "       [ 0.01629899,  0.00189302,  0.03470889,  0.00219849,  0.09619524,\n",
       "         0.05060082, -0.08915817, -0.07043006,  0.00902272,  0.06396507],\n",
       "       [-0.08616984,  0.03663966,  0.05187393,  0.05740382,  0.07468439,\n",
       "        -0.06165736,  0.01108811,  0.06048275, -0.02838594, -0.06170332],\n",
       "       [-0.00407363, -0.0837102 , -0.05605263,  0.07101285,  0.03357417,\n",
       "         0.07228801,  0.06804367,  0.0753176 , -0.0378536 , -0.00552289],\n",
       "       [ 0.02355883, -0.04522017,  0.08385403, -0.09866952,  0.06767131,\n",
       "         0.02919422, -0.04931825,  0.04409074, -0.01729039,  0.0672118 ],\n",
       "       [ 0.09969797, -0.04366365, -0.0060932 , -0.05701824,  0.03859935,\n",
       "         0.02792107,  0.06898981,  0.06104075,  0.09545703,  0.09291894],\n",
       "       [ 0.0789509 , -0.06988464, -0.09164009, -0.00355772, -0.03097068,\n",
       "         0.07895499,  0.05940973, -0.01547505,  0.01511   ,  0.01796757],\n",
       "       [ 0.07817571, -0.09510187, -0.00205531,  0.03469197, -0.00938972,\n",
       "         0.08381772,  0.09010784,  0.06536506, -0.00711621,  0.07710405],\n",
       "       [-0.08534335,  0.03207107, -0.04637997, -0.05088955,  0.03589618,\n",
       "         0.05370339,  0.07769515, -0.05766506,  0.07433361,  0.06625496],\n",
       "       [-0.037098  , -0.08745642,  0.05437467,  0.06509756, -0.0078755 ,\n",
       "        -0.06709856, -0.07085925, -0.0249706 ,  0.05143254, -0.03665238]],\n",
       "      dtype=float32)"
      ]
     },
     "execution_count": 7,
     "metadata": {},
     "output_type": "execute_result"
    }
   ],
   "source": [
    "model.wv.vectors"
   ]
  },
  {
   "cell_type": "code",
   "execution_count": 8,
   "metadata": {},
   "outputs": [
    {
     "data": {
      "text/plain": [
       "array([-0.037098  , -0.08745642,  0.05437467,  0.06509756, -0.0078755 ,\n",
       "       -0.06709856, -0.07085925, -0.0249706 ,  0.05143254, -0.03665238],\n",
       "      dtype=float32)"
      ]
     },
     "execution_count": 8,
     "metadata": {},
     "output_type": "execute_result"
    }
   ],
   "source": [
    "model.wv[\"cross\"]"
   ]
  },
  {
   "cell_type": "code",
   "execution_count": 9,
   "metadata": {},
   "outputs": [
    {
     "data": {
      "text/plain": [
       "[('one', 0.7191647887229919),\n",
       " ('was', 0.5374302268028259),\n",
       " ('titanic', 0.3582616448402405)]"
      ]
     },
     "execution_count": 9,
     "metadata": {},
     "output_type": "execute_result"
    }
   ],
   "source": [
    "model.wv.most_similar(\"maritime\", topn=3)"
   ]
  },
  {
   "cell_type": "markdown",
   "metadata": {},
   "source": [
    "### Búsqueda de similitudes"
   ]
  },
  {
   "cell_type": "code",
   "execution_count": 10,
   "metadata": {},
   "outputs": [
    {
     "data": {
      "text/plain": [
       "[('titanic', 0.5306490063667297),\n",
       " ('tragedies', 0.3752540647983551),\n",
       " ('one', 0.3642173409461975)]"
      ]
     },
     "execution_count": 10,
     "metadata": {},
     "output_type": "execute_result"
    }
   ],
   "source": [
    "model.wv.most_similar(positive=[\"the\", \"maritime\"], negative=[\"and\"], topn=3)"
   ]
  },
  {
   "cell_type": "code",
   "execution_count": 11,
   "metadata": {},
   "outputs": [
    {
     "data": {
      "text/plain": [
       "0.7727770805358887"
      ]
     },
     "execution_count": 11,
     "metadata": {},
     "output_type": "execute_result"
    }
   ],
   "source": [
    "model.wv.distance(\"the\", \"maritime\")"
   ]
  },
  {
   "cell_type": "markdown",
   "metadata": {},
   "source": [
    "### Embeddings de párrafos\n",
    "Importante para saber si 2 párrafos van sobre el mismo asunto o no."
   ]
  },
  {
   "cell_type": "code",
   "execution_count": 12,
   "metadata": {},
   "outputs": [
    {
     "name": "stdout",
     "output_type": "stream",
     "text": [
      "0.5285577476024628\n"
     ]
    }
   ],
   "source": [
    "# si quisiésemos hacer un embedding de un párrafo o sentencia\n",
    "# podemos hacer la media de los embeddings de sus tokens\n",
    "embedding1 = sum(model.wv[w] for w in token1) / len(token1)\n",
    "embedding2 = sum(model.wv[w] for w in token2) / len(token2)\n",
    "\n",
    "# para ver la distancia entre dos párrafos\n",
    "from scipy.spatial import distance\n",
    "cosine_dist = distance.cosine(embedding1, embedding2)\n",
    "print(cosine_dist)"
   ]
  }
 ],
 "metadata": {
  "kernelspec": {
   "display_name": "ia",
   "language": "python",
   "name": "python3"
  },
  "language_info": {
   "codemirror_mode": {
    "name": "ipython",
    "version": 3
   },
   "file_extension": ".py",
   "mimetype": "text/x-python",
   "name": "python",
   "nbconvert_exporter": "python",
   "pygments_lexer": "ipython3",
   "version": "3.8.18"
  }
 },
 "nbformat": 4,
 "nbformat_minor": 2
}
