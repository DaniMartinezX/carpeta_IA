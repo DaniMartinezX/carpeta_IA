{
 "cells": [
  {
   "cell_type": "code",
   "execution_count": 1,
   "metadata": {},
   "outputs": [
    {
     "name": "stderr",
     "output_type": "stream",
     "text": [
      "c:\\Users\\daniel.martinezcarre\\AppData\\Local\\miniconda3\\envs\\deeplearning\\Lib\\site-packages\\tqdm\\auto.py:21: TqdmWarning: IProgress not found. Please update jupyter and ipywidgets. See https://ipywidgets.readthedocs.io/en/stable/user_install.html\n",
      "  from .autonotebook import tqdm as notebook_tqdm\n"
     ]
    }
   ],
   "source": [
    "import pandas as pd\n",
    "import numpy as np\n",
    "\n",
    "\n",
    "import transformers\n",
    "from transformers import pipeline\n",
    "import torch"
   ]
  },
  {
   "cell_type": "code",
   "execution_count": 2,
   "metadata": {},
   "outputs": [
    {
     "data": {
      "text/plain": [
       "Index(['id_review', 'review', 'title', 'score', 'likes', 'id_nick', 'service',\n",
       "       'date', 'platform'],\n",
       "      dtype='object')"
      ]
     },
     "execution_count": 2,
     "metadata": {},
     "output_type": "execute_result"
    }
   ],
   "source": [
    "path_file = \"C:\\\\Users\\\\daniel.martinezcarre\\\\Desktop\\\\Repositorios\\\\ia_repositorio\\\\sistemas_de_aprendizaxe_automatico\\\\neumonia\\\\peruvia-food-reviews\\\\reviews.csv\"\n",
    "\n",
    "data = pd.read_csv(path_file)\n",
    "\n",
    "data.columns"
   ]
  },
  {
   "cell_type": "markdown",
   "metadata": {},
   "source": [
    "### Se recogen sólo los reviews del dataframe"
   ]
  },
  {
   "cell_type": "code",
   "execution_count": 3,
   "metadata": {},
   "outputs": [
    {
     "data": {
      "text/html": [
       "<div>\n",
       "<style scoped>\n",
       "    .dataframe tbody tr th:only-of-type {\n",
       "        vertical-align: middle;\n",
       "    }\n",
       "\n",
       "    .dataframe tbody tr th {\n",
       "        vertical-align: top;\n",
       "    }\n",
       "\n",
       "    .dataframe thead th {\n",
       "        text-align: right;\n",
       "    }\n",
       "</style>\n",
       "<table border=\"1\" class=\"dataframe\">\n",
       "  <thead>\n",
       "    <tr style=\"text-align: right;\">\n",
       "      <th></th>\n",
       "      <th>id_review</th>\n",
       "      <th>review</th>\n",
       "      <th>title</th>\n",
       "      <th>score</th>\n",
       "      <th>likes</th>\n",
       "      <th>id_nick</th>\n",
       "      <th>service</th>\n",
       "      <th>date</th>\n",
       "      <th>platform</th>\n",
       "    </tr>\n",
       "  </thead>\n",
       "  <tbody>\n",
       "    <tr>\n",
       "      <th>0</th>\n",
       "      <td>R1245</td>\n",
       "      <td>Muy buena presentación y servicio sin embargo ...</td>\n",
       "      <td>Muy buena presentación y servicio</td>\n",
       "      <td>3.0</td>\n",
       "      <td>0</td>\n",
       "      <td>uisahelenad2018</td>\n",
       "      <td>71036.0</td>\n",
       "      <td>1 years ago</td>\n",
       "      <td>tripadvisor</td>\n",
       "    </tr>\n",
       "    <tr>\n",
       "      <th>1</th>\n",
       "      <td>R1246</td>\n",
       "      <td>Desde la presentación de los platos a la calid...</td>\n",
       "      <td>Una experiencia</td>\n",
       "      <td>5.0</td>\n",
       "      <td>0</td>\n",
       "      <td>turrutia</td>\n",
       "      <td>71036.0</td>\n",
       "      <td>1 years ago</td>\n",
       "      <td>tripadvisor</td>\n",
       "    </tr>\n",
       "    <tr>\n",
       "      <th>2</th>\n",
       "      <td>R1247</td>\n",
       "      <td>El mejor lugar para reencontrame con mis amigo...</td>\n",
       "      <td>Felicitaciones a Statera!</td>\n",
       "      <td>5.0</td>\n",
       "      <td>0</td>\n",
       "      <td>orthStar25333985745</td>\n",
       "      <td>71036.0</td>\n",
       "      <td>1 years ago</td>\n",
       "      <td>tripadvisor</td>\n",
       "    </tr>\n",
       "    <tr>\n",
       "      <th>3</th>\n",
       "      <td>R1248</td>\n",
       "      <td>Excelente experiencia Comida maravillosa con e...</td>\n",
       "      <td>Aniversario de boda</td>\n",
       "      <td>5.0</td>\n",
       "      <td>0</td>\n",
       "      <td>atima J</td>\n",
       "      <td>71036.0</td>\n",
       "      <td>1 years ago</td>\n",
       "      <td>tripadvisor</td>\n",
       "    </tr>\n",
       "    <tr>\n",
       "      <th>4</th>\n",
       "      <td>R1249</td>\n",
       "      <td>Mi pasión es viajar y disfrutar de las grandez...</td>\n",
       "      <td>No te lo querrás perder!</td>\n",
       "      <td>5.0</td>\n",
       "      <td>0</td>\n",
       "      <td>nbocadoalmundo</td>\n",
       "      <td>71036.0</td>\n",
       "      <td>1 years ago</td>\n",
       "      <td>tripadvisor</td>\n",
       "    </tr>\n",
       "    <tr>\n",
       "      <th>...</th>\n",
       "      <td>...</td>\n",
       "      <td>...</td>\n",
       "      <td>...</td>\n",
       "      <td>...</td>\n",
       "      <td>...</td>\n",
       "      <td>...</td>\n",
       "      <td>...</td>\n",
       "      <td>...</td>\n",
       "      <td>...</td>\n",
       "    </tr>\n",
       "    <tr>\n",
       "      <th>95</th>\n",
       "      <td>R1629</td>\n",
       "      <td>Es un rinconcito maravilloso, con unas 12 mesa...</td>\n",
       "      <td>Fin de semana</td>\n",
       "      <td>4.0</td>\n",
       "      <td>0</td>\n",
       "      <td>labbeb</td>\n",
       "      <td>76722.0</td>\n",
       "      <td>3 years ago</td>\n",
       "      <td>tripadvisor</td>\n",
       "    </tr>\n",
       "    <tr>\n",
       "      <th>96</th>\n",
       "      <td>R1630</td>\n",
       "      <td>Llegamos por las recomendaciones de trip y Fou...</td>\n",
       "      <td>Buen rincón</td>\n",
       "      <td>5.0</td>\n",
       "      <td>0</td>\n",
       "      <td>covas24</td>\n",
       "      <td>76722.0</td>\n",
       "      <td>3 years ago</td>\n",
       "      <td>tripadvisor</td>\n",
       "    </tr>\n",
       "    <tr>\n",
       "      <th>97</th>\n",
       "      <td>R1631</td>\n",
       "      <td>Recomiendo el lugar,la cosa.ida vasca es muy b...</td>\n",
       "      <td>Muy bueno</td>\n",
       "      <td>4.0</td>\n",
       "      <td>0</td>\n",
       "      <td>orenzo C</td>\n",
       "      <td>76722.0</td>\n",
       "      <td>3 years ago</td>\n",
       "      <td>tripadvisor</td>\n",
       "    </tr>\n",
       "    <tr>\n",
       "      <th>98</th>\n",
       "      <td>R1632</td>\n",
       "      <td>Queríamos ir porque las opiniones eran muy bue...</td>\n",
       "      <td>Decepcionante</td>\n",
       "      <td>2.0</td>\n",
       "      <td>0</td>\n",
       "      <td>ititin</td>\n",
       "      <td>76722.0</td>\n",
       "      <td>3 years ago</td>\n",
       "      <td>tripadvisor</td>\n",
       "    </tr>\n",
       "    <tr>\n",
       "      <th>99</th>\n",
       "      <td>R1633</td>\n",
       "      <td>un bonito y agradable lugar, con personal aten...</td>\n",
       "      <td>delicioso</td>\n",
       "      <td>4.0</td>\n",
       "      <td>0</td>\n",
       "      <td>arisa P</td>\n",
       "      <td>76722.0</td>\n",
       "      <td>3 years ago</td>\n",
       "      <td>tripadvisor</td>\n",
       "    </tr>\n",
       "  </tbody>\n",
       "</table>\n",
       "<p>100 rows × 9 columns</p>\n",
       "</div>"
      ],
      "text/plain": [
       "   id_review                                             review  \\\n",
       "0      R1245  Muy buena presentación y servicio sin embargo ...   \n",
       "1      R1246  Desde la presentación de los platos a la calid...   \n",
       "2      R1247  El mejor lugar para reencontrame con mis amigo...   \n",
       "3      R1248  Excelente experiencia Comida maravillosa con e...   \n",
       "4      R1249  Mi pasión es viajar y disfrutar de las grandez...   \n",
       "..       ...                                                ...   \n",
       "95     R1629  Es un rinconcito maravilloso, con unas 12 mesa...   \n",
       "96     R1630  Llegamos por las recomendaciones de trip y Fou...   \n",
       "97     R1631  Recomiendo el lugar,la cosa.ida vasca es muy b...   \n",
       "98     R1632  Queríamos ir porque las opiniones eran muy bue...   \n",
       "99     R1633  un bonito y agradable lugar, con personal aten...   \n",
       "\n",
       "                                title  score  likes              id_nick  \\\n",
       "0   Muy buena presentación y servicio    3.0      0      uisahelenad2018   \n",
       "1                     Una experiencia    5.0      0             turrutia   \n",
       "2           Felicitaciones a Statera!    5.0      0  orthStar25333985745   \n",
       "3                 Aniversario de boda    5.0      0              atima J   \n",
       "4            No te lo querrás perder!    5.0      0       nbocadoalmundo   \n",
       "..                                ...    ...    ...                  ...   \n",
       "95                      Fin de semana    4.0      0               labbeb   \n",
       "96                        Buen rincón    5.0      0              covas24   \n",
       "97                          Muy bueno    4.0      0             orenzo C   \n",
       "98                      Decepcionante    2.0      0               ititin   \n",
       "99                          delicioso    4.0      0              arisa P   \n",
       "\n",
       "    service         date     platform  \n",
       "0   71036.0  1 years ago  tripadvisor  \n",
       "1   71036.0  1 years ago  tripadvisor  \n",
       "2   71036.0  1 years ago  tripadvisor  \n",
       "3   71036.0  1 years ago  tripadvisor  \n",
       "4   71036.0  1 years ago  tripadvisor  \n",
       "..      ...          ...          ...  \n",
       "95  76722.0  3 years ago  tripadvisor  \n",
       "96  76722.0  3 years ago  tripadvisor  \n",
       "97  76722.0  3 years ago  tripadvisor  \n",
       "98  76722.0  3 years ago  tripadvisor  \n",
       "99  76722.0  3 years ago  tripadvisor  \n",
       "\n",
       "[100 rows x 9 columns]"
      ]
     },
     "execution_count": 3,
     "metadata": {},
     "output_type": "execute_result"
    }
   ],
   "source": [
    "data_modelo = data[:100]\n",
    "data_modelo"
   ]
  },
  {
   "cell_type": "markdown",
   "metadata": {},
   "source": [
    "## Comprobar si hay una GPU disponible"
   ]
  },
  {
   "cell_type": "code",
   "execution_count": 4,
   "metadata": {},
   "outputs": [
    {
     "data": {
      "text/plain": [
       "-1"
      ]
     },
     "execution_count": 4,
     "metadata": {},
     "output_type": "execute_result"
    }
   ],
   "source": [
    "device = 0 if torch.cuda.is_available() else -1\n",
    "device"
   ]
  },
  {
   "cell_type": "code",
   "execution_count": 5,
   "metadata": {},
   "outputs": [],
   "source": [
    "# https://huggingface.co/docs/transformers/main_classes/logging\n",
    "transformers.utils.logging.set_verbosity_error()"
   ]
  },
  {
   "cell_type": "markdown",
   "metadata": {},
   "source": [
    "## Análisis sentimiento"
   ]
  },
  {
   "cell_type": "code",
   "execution_count": 6,
   "metadata": {},
   "outputs": [
    {
     "name": "stdout",
     "output_type": "stream",
     "text": [
      "WARNING:tensorflow:From c:\\Users\\daniel.martinezcarre\\AppData\\Local\\miniconda3\\envs\\deeplearning\\Lib\\site-packages\\tf_keras\\src\\losses.py:2976: The name tf.losses.sparse_softmax_cross_entropy is deprecated. Please use tf.compat.v1.losses.sparse_softmax_cross_entropy instead.\n",
      "\n"
     ]
    }
   ],
   "source": [
    "from transformers import pipeline\n",
    "from transformers import AutoTokenizer\n",
    "\n",
    "# Se carga el modelo pre-entrenado de BERT para análisis de sentimiento en ESPAÑOL\n",
    "nlp = pipeline(\"text-classification\", model=\"nlptown/bert-base-multilingual-uncased-sentiment\", device=device)\n",
    "tokenize = AutoTokenizer.from_pretrained(\"nlptown/bert-base-multilingual-uncased-sentiment\")"
   ]
  },
  {
   "cell_type": "code",
   "execution_count": 8,
   "metadata": {},
   "outputs": [],
   "source": [
    "from transformers import BertTokenizer\n",
    "\n",
    "# Carga el tokenizador BERT\n",
    "tokenizer = BertTokenizer.from_pretrained('bert-base-uncased')\n",
    "\n",
    "# Tokeniza las reseñas\n",
    "tokenized_reviews = []\n",
    "for d in range(len(data_modelo)):\n",
    "    review = data_modelo.iloc[d][\"review\"]\n",
    "    encoded_inputs = tokenize(review, truncation=True, padding='max_length', max_length=800)\n",
    "    tokenized_reviews.append(encoded_inputs)"
   ]
  },
  {
   "cell_type": "markdown",
   "metadata": {},
   "source": [
    "### Aplicación del análisis de sentimiento a cada review"
   ]
  },
  {
   "cell_type": "code",
   "execution_count": 11,
   "metadata": {},
   "outputs": [],
   "source": [
    "resultados = []\n",
    "for review in tokenized_reviews:\n",
    "    tokens_str = [str(token) for token in review['input_ids']]\n",
    "    result = nlp(tokens_str)[0]\n",
    "    resultados.append(result)"
   ]
  },
  {
   "cell_type": "code",
   "execution_count": 14,
   "metadata": {},
   "outputs": [
    {
     "name": "stdout",
     "output_type": "stream",
     "text": [
      "Longitud reales 100, predichos 100\n"
     ]
    }
   ],
   "source": [
    "reales = data_modelo['score']\n",
    "pred = []\n",
    "for i in resultados:\n",
    "    nota = int(i['label'][0])\n",
    "    pred.append(nota)\n",
    "\n",
    "print(f'Longitud reales {len(reales)}, predichos {len(pred)}')\n",
    "\n",
    "# mae = np.,mean(np.abs(reales - pred))\n",
    "# rmse 0 sqrt((reales**2-pred**2).mean())\n"
   ]
  },
  {
   "cell_type": "code",
   "execution_count": 24,
   "metadata": {},
   "outputs": [
    {
     "name": "stdout",
     "output_type": "stream",
     "text": [
      "Métricas de error\n",
      "- MSE (Mean Squared Error): 0.36\n",
      "- RMSE (Root Mean Squared Error): 0.8246211251235321\n"
     ]
    }
   ],
   "source": [
    "reales_array = np.array(reales)\n",
    "pred_array = np.array(pred)\n",
    "\n",
    "mae = np.mean(np.abs(reales_array - pred_array))\n",
    "rmse = np.sqrt(((reales_array - pred_array)**2).mean())\n",
    "\n",
    "print(f'Métricas de error\\n- MSE (Mean Squared Error): {mae}\\n- RMSE (Root Mean Squared Error): {rmse}')"
   ]
  }
 ],
 "metadata": {
  "kernelspec": {
   "display_name": "deeplearning",
   "language": "python",
   "name": "python3"
  },
  "language_info": {
   "codemirror_mode": {
    "name": "ipython",
    "version": 3
   },
   "file_extension": ".py",
   "mimetype": "text/x-python",
   "name": "python",
   "nbconvert_exporter": "python",
   "pygments_lexer": "ipython3",
   "version": "3.12.2"
  }
 },
 "nbformat": 4,
 "nbformat_minor": 2
}
