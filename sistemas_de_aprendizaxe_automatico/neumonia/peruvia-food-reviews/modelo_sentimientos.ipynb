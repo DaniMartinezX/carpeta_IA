{
 "cells": [
  {
   "cell_type": "code",
   "execution_count": 54,
   "metadata": {},
   "outputs": [],
   "source": [
    "import pandas as pd\n",
    "import numpy as np\n",
    "\n",
    "\n",
    "import transformers\n",
    "from transformers import pipeline\n",
    "import torch"
   ]
  },
  {
   "cell_type": "code",
   "execution_count": 55,
   "metadata": {},
   "outputs": [
    {
     "data": {
      "text/plain": [
       "Index(['id_review', 'review', 'title', 'score', 'likes', 'id_nick', 'service',\n",
       "       'date', 'platform'],\n",
       "      dtype='object')"
      ]
     },
     "execution_count": 55,
     "metadata": {},
     "output_type": "execute_result"
    }
   ],
   "source": [
    "path_file = \"C:\\\\Users\\\\daniel.martinezcarre\\\\Desktop\\\\Repositorios\\\\ia_repositorio\\\\sistemas_de_aprendizaxe_automatico\\\\neumonia\\\\peruvia-food-reviews\\\\reviews.csv\"\n",
    "\n",
    "data = pd.read_csv(path_file)\n",
    "\n",
    "data.columns"
   ]
  },
  {
   "cell_type": "markdown",
   "metadata": {},
   "source": [
    "### Se recogen sólo los reviews del dataframe"
   ]
  },
  {
   "cell_type": "code",
   "execution_count": 56,
   "metadata": {},
   "outputs": [
    {
     "data": {
      "text/html": [
       "<div>\n",
       "<style scoped>\n",
       "    .dataframe tbody tr th:only-of-type {\n",
       "        vertical-align: middle;\n",
       "    }\n",
       "\n",
       "    .dataframe tbody tr th {\n",
       "        vertical-align: top;\n",
       "    }\n",
       "\n",
       "    .dataframe thead th {\n",
       "        text-align: right;\n",
       "    }\n",
       "</style>\n",
       "<table border=\"1\" class=\"dataframe\">\n",
       "  <thead>\n",
       "    <tr style=\"text-align: right;\">\n",
       "      <th></th>\n",
       "      <th>id_review</th>\n",
       "      <th>review</th>\n",
       "      <th>title</th>\n",
       "      <th>score</th>\n",
       "      <th>likes</th>\n",
       "      <th>id_nick</th>\n",
       "      <th>service</th>\n",
       "      <th>date</th>\n",
       "      <th>platform</th>\n",
       "    </tr>\n",
       "  </thead>\n",
       "  <tbody>\n",
       "    <tr>\n",
       "      <th>0</th>\n",
       "      <td>R1245</td>\n",
       "      <td>Muy buena presentación y servicio sin embargo ...</td>\n",
       "      <td>Muy buena presentación y servicio</td>\n",
       "      <td>3.0</td>\n",
       "      <td>0</td>\n",
       "      <td>uisahelenad2018</td>\n",
       "      <td>71036.0</td>\n",
       "      <td>1 years ago</td>\n",
       "      <td>tripadvisor</td>\n",
       "    </tr>\n",
       "    <tr>\n",
       "      <th>1</th>\n",
       "      <td>R1246</td>\n",
       "      <td>Desde la presentación de los platos a la calid...</td>\n",
       "      <td>Una experiencia</td>\n",
       "      <td>5.0</td>\n",
       "      <td>0</td>\n",
       "      <td>turrutia</td>\n",
       "      <td>71036.0</td>\n",
       "      <td>1 years ago</td>\n",
       "      <td>tripadvisor</td>\n",
       "    </tr>\n",
       "    <tr>\n",
       "      <th>2</th>\n",
       "      <td>R1247</td>\n",
       "      <td>El mejor lugar para reencontrame con mis amigo...</td>\n",
       "      <td>Felicitaciones a Statera!</td>\n",
       "      <td>5.0</td>\n",
       "      <td>0</td>\n",
       "      <td>orthStar25333985745</td>\n",
       "      <td>71036.0</td>\n",
       "      <td>1 years ago</td>\n",
       "      <td>tripadvisor</td>\n",
       "    </tr>\n",
       "    <tr>\n",
       "      <th>3</th>\n",
       "      <td>R1248</td>\n",
       "      <td>Excelente experiencia Comida maravillosa con e...</td>\n",
       "      <td>Aniversario de boda</td>\n",
       "      <td>5.0</td>\n",
       "      <td>0</td>\n",
       "      <td>atima J</td>\n",
       "      <td>71036.0</td>\n",
       "      <td>1 years ago</td>\n",
       "      <td>tripadvisor</td>\n",
       "    </tr>\n",
       "    <tr>\n",
       "      <th>4</th>\n",
       "      <td>R1249</td>\n",
       "      <td>Mi pasión es viajar y disfrutar de las grandez...</td>\n",
       "      <td>No te lo querrás perder!</td>\n",
       "      <td>5.0</td>\n",
       "      <td>0</td>\n",
       "      <td>nbocadoalmundo</td>\n",
       "      <td>71036.0</td>\n",
       "      <td>1 years ago</td>\n",
       "      <td>tripadvisor</td>\n",
       "    </tr>\n",
       "    <tr>\n",
       "      <th>...</th>\n",
       "      <td>...</td>\n",
       "      <td>...</td>\n",
       "      <td>...</td>\n",
       "      <td>...</td>\n",
       "      <td>...</td>\n",
       "      <td>...</td>\n",
       "      <td>...</td>\n",
       "      <td>...</td>\n",
       "      <td>...</td>\n",
       "    </tr>\n",
       "    <tr>\n",
       "      <th>995</th>\n",
       "      <td>R3876</td>\n",
       "      <td>Sitio agradable y buena atención. Las hamburgu...</td>\n",
       "      <td>Buena hamburguesa</td>\n",
       "      <td>5.0</td>\n",
       "      <td>0</td>\n",
       "      <td>uancU4383RV</td>\n",
       "      <td>104517.0</td>\n",
       "      <td>5 years ago</td>\n",
       "      <td>tripadvisor</td>\n",
       "    </tr>\n",
       "    <tr>\n",
       "      <th>996</th>\n",
       "      <td>R3877</td>\n",
       "      <td>Muy buena idea de ponerle queso a la salchicha...</td>\n",
       "      <td>Recomendable !</td>\n",
       "      <td>5.0</td>\n",
       "      <td>0</td>\n",
       "      <td>esús S</td>\n",
       "      <td>104517.0</td>\n",
       "      <td>5 years ago</td>\n",
       "      <td>tripadvisor</td>\n",
       "    </tr>\n",
       "    <tr>\n",
       "      <th>997</th>\n",
       "      <td>R3878</td>\n",
       "      <td>Es la tercera vez que voy a JL porque sus hamb...</td>\n",
       "      <td>Cuidado con la preparación</td>\n",
       "      <td>3.0</td>\n",
       "      <td>0</td>\n",
       "      <td>agopaul</td>\n",
       "      <td>104517.0</td>\n",
       "      <td>5 years ago</td>\n",
       "      <td>tripadvisor</td>\n",
       "    </tr>\n",
       "    <tr>\n",
       "      <th>998</th>\n",
       "      <td>R3879</td>\n",
       "      <td>Pasamos por aquí luego de hacer unas compras y...</td>\n",
       "      <td>Muy buena sazón</td>\n",
       "      <td>4.0</td>\n",
       "      <td>0</td>\n",
       "      <td>eliGP</td>\n",
       "      <td>104517.0</td>\n",
       "      <td>5 years ago</td>\n",
       "      <td>tripadvisor</td>\n",
       "    </tr>\n",
       "    <tr>\n",
       "      <th>999</th>\n",
       "      <td>R3880</td>\n",
       "      <td>El lugar es muy atractivo, la decoración me gu...</td>\n",
       "      <td>Una de las mejores hamburguesas que he probado!</td>\n",
       "      <td>5.0</td>\n",
       "      <td>0</td>\n",
       "      <td>ate L</td>\n",
       "      <td>104517.0</td>\n",
       "      <td>5 years ago</td>\n",
       "      <td>tripadvisor</td>\n",
       "    </tr>\n",
       "  </tbody>\n",
       "</table>\n",
       "<p>1000 rows × 9 columns</p>\n",
       "</div>"
      ],
      "text/plain": [
       "    id_review                                             review  \\\n",
       "0       R1245  Muy buena presentación y servicio sin embargo ...   \n",
       "1       R1246  Desde la presentación de los platos a la calid...   \n",
       "2       R1247  El mejor lugar para reencontrame con mis amigo...   \n",
       "3       R1248  Excelente experiencia Comida maravillosa con e...   \n",
       "4       R1249  Mi pasión es viajar y disfrutar de las grandez...   \n",
       "..        ...                                                ...   \n",
       "995     R3876  Sitio agradable y buena atención. Las hamburgu...   \n",
       "996     R3877  Muy buena idea de ponerle queso a la salchicha...   \n",
       "997     R3878  Es la tercera vez que voy a JL porque sus hamb...   \n",
       "998     R3879  Pasamos por aquí luego de hacer unas compras y...   \n",
       "999     R3880  El lugar es muy atractivo, la decoración me gu...   \n",
       "\n",
       "                                               title  score  likes  \\\n",
       "0                  Muy buena presentación y servicio    3.0      0   \n",
       "1                                    Una experiencia    5.0      0   \n",
       "2                          Felicitaciones a Statera!    5.0      0   \n",
       "3                                Aniversario de boda    5.0      0   \n",
       "4                           No te lo querrás perder!    5.0      0   \n",
       "..                                               ...    ...    ...   \n",
       "995                                Buena hamburguesa    5.0      0   \n",
       "996                                   Recomendable !    5.0      0   \n",
       "997                       Cuidado con la preparación    3.0      0   \n",
       "998                                  Muy buena sazón    4.0      0   \n",
       "999  Una de las mejores hamburguesas que he probado!    5.0      0   \n",
       "\n",
       "                 id_nick   service         date     platform  \n",
       "0        uisahelenad2018   71036.0  1 years ago  tripadvisor  \n",
       "1               turrutia   71036.0  1 years ago  tripadvisor  \n",
       "2    orthStar25333985745   71036.0  1 years ago  tripadvisor  \n",
       "3                atima J   71036.0  1 years ago  tripadvisor  \n",
       "4         nbocadoalmundo   71036.0  1 years ago  tripadvisor  \n",
       "..                   ...       ...          ...          ...  \n",
       "995          uancU4383RV  104517.0  5 years ago  tripadvisor  \n",
       "996               esús S  104517.0  5 years ago  tripadvisor  \n",
       "997              agopaul  104517.0  5 years ago  tripadvisor  \n",
       "998                eliGP  104517.0  5 years ago  tripadvisor  \n",
       "999                ate L  104517.0  5 years ago  tripadvisor  \n",
       "\n",
       "[1000 rows x 9 columns]"
      ]
     },
     "execution_count": 56,
     "metadata": {},
     "output_type": "execute_result"
    }
   ],
   "source": [
    "data_modelo = data[:1000]\n",
    "data_modelo"
   ]
  },
  {
   "cell_type": "markdown",
   "metadata": {},
   "source": [
    "## Comprobar si hay una GPU disponible"
   ]
  },
  {
   "cell_type": "code",
   "execution_count": 57,
   "metadata": {},
   "outputs": [
    {
     "data": {
      "text/plain": [
       "-1"
      ]
     },
     "execution_count": 57,
     "metadata": {},
     "output_type": "execute_result"
    }
   ],
   "source": [
    "device = 0 if torch.cuda.is_available() else -1\n",
    "device"
   ]
  },
  {
   "cell_type": "code",
   "execution_count": 58,
   "metadata": {},
   "outputs": [],
   "source": [
    "# https://huggingface.co/docs/transformers/main_classes/logging\n",
    "transformers.utils.logging.set_verbosity_error()"
   ]
  },
  {
   "cell_type": "markdown",
   "metadata": {},
   "source": [
    "## Análisis sentimiento"
   ]
  },
  {
   "cell_type": "code",
   "execution_count": 59,
   "metadata": {},
   "outputs": [],
   "source": [
    "from transformers import pipeline\n",
    "\n",
    "# Se carga el modelo pre-entrenado de BERT para análisis de sentimiento en ESPAÑOL\n",
    "nlp = pipeline(\"text-classification\", model=\"nlptown/bert-base-multilingual-uncased-sentiment\", device=device)"
   ]
  },
  {
   "cell_type": "code",
   "execution_count": 60,
   "metadata": {},
   "outputs": [
    {
     "data": {
      "text/plain": [
       "1000"
      ]
     },
     "execution_count": 60,
     "metadata": {},
     "output_type": "execute_result"
    }
   ],
   "source": [
    "len(data_modelo)"
   ]
  },
  {
   "cell_type": "code",
   "execution_count": 61,
   "metadata": {},
   "outputs": [],
   "source": [
    "from transformers import BertTokenizer\n",
    "\n",
    "# Carga el tokenizador BERT\n",
    "tokenizer = BertTokenizer.from_pretrained('bert-base-uncased')\n",
    "\n",
    "# Tokeniza las reseñas\n",
    "tokenized_reviews = []\n",
    "for review in data_modelo:\n",
    "    encoded_inputs = tokenizer(review, truncation=True, padding='max_length', max_length=800)\n",
    "    tokenized_reviews.append(encoded_inputs)"
   ]
  },
  {
   "cell_type": "markdown",
   "metadata": {},
   "source": [
    "### Aplicación del análisis de sentimiento a cada review"
   ]
  },
  {
   "cell_type": "code",
   "execution_count": 62,
   "metadata": {},
   "outputs": [
    {
     "data": {
      "text/plain": [
       "9"
      ]
     },
     "execution_count": 62,
     "metadata": {},
     "output_type": "execute_result"
    }
   ],
   "source": [
    "len(tokenized_reviews)"
   ]
  },
  {
   "cell_type": "code",
   "execution_count": 63,
   "metadata": {},
   "outputs": [],
   "source": [
    "resultados = []\n",
    "for review in tokenized_reviews:\n",
    "    tokens_str = [str(token) for token in review['input_ids']]\n",
    "    result = nlp(tokens_str)[0]\n",
    "    resultados.append(result)"
   ]
  },
  {
   "cell_type": "markdown",
   "metadata": {},
   "source": [
    "### Agregar los sentimientos al dataframe\n",
    "Se crean 2 nuevas columnas en el dataframe para almacenar la etiqueta de sentimiento (positivo, negativo o neutral) y la puntuación asociada a cada reseña."
   ]
  },
  {
   "cell_type": "code",
   "execution_count": 65,
   "metadata": {},
   "outputs": [
    {
     "ename": "ValueError",
     "evalue": "Length of values (8982) does not match length of index (1000)",
     "output_type": "error",
     "traceback": [
      "\u001b[1;31m---------------------------------------------------------------------------\u001b[0m",
      "\u001b[1;31mValueError\u001b[0m                                Traceback (most recent call last)",
      "Cell \u001b[1;32mIn[65], line 13\u001b[0m\n\u001b[0;32m     10\u001b[0m     sentimientos\u001b[38;5;241m.\u001b[39mextend([resultado[\u001b[38;5;124m'\u001b[39m\u001b[38;5;124mlabel\u001b[39m\u001b[38;5;124m'\u001b[39m] \u001b[38;5;28;01mfor\u001b[39;00m resultado \u001b[38;5;129;01min\u001b[39;00m resultados])\n\u001b[0;32m     11\u001b[0m     puntuaciones\u001b[38;5;241m.\u001b[39mextend([resultado[\u001b[38;5;124m'\u001b[39m\u001b[38;5;124mscore\u001b[39m\u001b[38;5;124m'\u001b[39m] \u001b[38;5;28;01mfor\u001b[39;00m resultado \u001b[38;5;129;01min\u001b[39;00m resultados])\n\u001b[1;32m---> 13\u001b[0m \u001b[43mdata_modelo\u001b[49m\u001b[43m[\u001b[49m\u001b[38;5;124;43m'\u001b[39;49m\u001b[38;5;124;43msentimiento\u001b[39;49m\u001b[38;5;124;43m'\u001b[39;49m\u001b[43m]\u001b[49m \u001b[38;5;241m=\u001b[39m sentimientos\n\u001b[0;32m     14\u001b[0m data_modelo[\u001b[38;5;124m'\u001b[39m\u001b[38;5;124mpuntuacion_sentimiento\u001b[39m\u001b[38;5;124m'\u001b[39m] \u001b[38;5;241m=\u001b[39m puntuaciones\n",
      "File \u001b[1;32mc:\\Users\\daniel.martinezcarre\\AppData\\Local\\miniconda3\\envs\\deeplearning\\Lib\\site-packages\\pandas\\core\\frame.py:4299\u001b[0m, in \u001b[0;36mDataFrame.__setitem__\u001b[1;34m(self, key, value)\u001b[0m\n\u001b[0;32m   4296\u001b[0m     \u001b[38;5;28mself\u001b[39m\u001b[38;5;241m.\u001b[39m_setitem_array([key], value)\n\u001b[0;32m   4297\u001b[0m \u001b[38;5;28;01melse\u001b[39;00m:\n\u001b[0;32m   4298\u001b[0m     \u001b[38;5;66;03m# set column\u001b[39;00m\n\u001b[1;32m-> 4299\u001b[0m     \u001b[38;5;28;43mself\u001b[39;49m\u001b[38;5;241;43m.\u001b[39;49m\u001b[43m_set_item\u001b[49m\u001b[43m(\u001b[49m\u001b[43mkey\u001b[49m\u001b[43m,\u001b[49m\u001b[43m \u001b[49m\u001b[43mvalue\u001b[49m\u001b[43m)\u001b[49m\n",
      "File \u001b[1;32mc:\\Users\\daniel.martinezcarre\\AppData\\Local\\miniconda3\\envs\\deeplearning\\Lib\\site-packages\\pandas\\core\\frame.py:4512\u001b[0m, in \u001b[0;36mDataFrame._set_item\u001b[1;34m(self, key, value)\u001b[0m\n\u001b[0;32m   4502\u001b[0m \u001b[38;5;28;01mdef\u001b[39;00m \u001b[38;5;21m_set_item\u001b[39m(\u001b[38;5;28mself\u001b[39m, key, value) \u001b[38;5;241m-\u001b[39m\u001b[38;5;241m>\u001b[39m \u001b[38;5;28;01mNone\u001b[39;00m:\n\u001b[0;32m   4503\u001b[0m \u001b[38;5;250m    \u001b[39m\u001b[38;5;124;03m\"\"\"\u001b[39;00m\n\u001b[0;32m   4504\u001b[0m \u001b[38;5;124;03m    Add series to DataFrame in specified column.\u001b[39;00m\n\u001b[0;32m   4505\u001b[0m \n\u001b[1;32m   (...)\u001b[0m\n\u001b[0;32m   4510\u001b[0m \u001b[38;5;124;03m    ensure homogeneity.\u001b[39;00m\n\u001b[0;32m   4511\u001b[0m \u001b[38;5;124;03m    \"\"\"\u001b[39;00m\n\u001b[1;32m-> 4512\u001b[0m     value, refs \u001b[38;5;241m=\u001b[39m \u001b[38;5;28;43mself\u001b[39;49m\u001b[38;5;241;43m.\u001b[39;49m\u001b[43m_sanitize_column\u001b[49m\u001b[43m(\u001b[49m\u001b[43mvalue\u001b[49m\u001b[43m)\u001b[49m\n\u001b[0;32m   4514\u001b[0m     \u001b[38;5;28;01mif\u001b[39;00m (\n\u001b[0;32m   4515\u001b[0m         key \u001b[38;5;129;01min\u001b[39;00m \u001b[38;5;28mself\u001b[39m\u001b[38;5;241m.\u001b[39mcolumns\n\u001b[0;32m   4516\u001b[0m         \u001b[38;5;129;01mand\u001b[39;00m value\u001b[38;5;241m.\u001b[39mndim \u001b[38;5;241m==\u001b[39m \u001b[38;5;241m1\u001b[39m\n\u001b[0;32m   4517\u001b[0m         \u001b[38;5;129;01mand\u001b[39;00m \u001b[38;5;129;01mnot\u001b[39;00m \u001b[38;5;28misinstance\u001b[39m(value\u001b[38;5;241m.\u001b[39mdtype, ExtensionDtype)\n\u001b[0;32m   4518\u001b[0m     ):\n\u001b[0;32m   4519\u001b[0m         \u001b[38;5;66;03m# broadcast across multiple columns if necessary\u001b[39;00m\n\u001b[0;32m   4520\u001b[0m         \u001b[38;5;28;01mif\u001b[39;00m \u001b[38;5;129;01mnot\u001b[39;00m \u001b[38;5;28mself\u001b[39m\u001b[38;5;241m.\u001b[39mcolumns\u001b[38;5;241m.\u001b[39mis_unique \u001b[38;5;129;01mor\u001b[39;00m \u001b[38;5;28misinstance\u001b[39m(\u001b[38;5;28mself\u001b[39m\u001b[38;5;241m.\u001b[39mcolumns, MultiIndex):\n",
      "File \u001b[1;32mc:\\Users\\daniel.martinezcarre\\AppData\\Local\\miniconda3\\envs\\deeplearning\\Lib\\site-packages\\pandas\\core\\frame.py:5253\u001b[0m, in \u001b[0;36mDataFrame._sanitize_column\u001b[1;34m(self, value)\u001b[0m\n\u001b[0;32m   5250\u001b[0m     \u001b[38;5;28;01mreturn\u001b[39;00m _reindex_for_setitem(value, \u001b[38;5;28mself\u001b[39m\u001b[38;5;241m.\u001b[39mindex)\n\u001b[0;32m   5252\u001b[0m \u001b[38;5;28;01mif\u001b[39;00m is_list_like(value):\n\u001b[1;32m-> 5253\u001b[0m     \u001b[43mcom\u001b[49m\u001b[38;5;241;43m.\u001b[39;49m\u001b[43mrequire_length_match\u001b[49m\u001b[43m(\u001b[49m\u001b[43mvalue\u001b[49m\u001b[43m,\u001b[49m\u001b[43m \u001b[49m\u001b[38;5;28;43mself\u001b[39;49m\u001b[38;5;241;43m.\u001b[39;49m\u001b[43mindex\u001b[49m\u001b[43m)\u001b[49m\n\u001b[0;32m   5254\u001b[0m arr \u001b[38;5;241m=\u001b[39m sanitize_array(value, \u001b[38;5;28mself\u001b[39m\u001b[38;5;241m.\u001b[39mindex, copy\u001b[38;5;241m=\u001b[39m\u001b[38;5;28;01mTrue\u001b[39;00m, allow_2d\u001b[38;5;241m=\u001b[39m\u001b[38;5;28;01mTrue\u001b[39;00m)\n\u001b[0;32m   5255\u001b[0m \u001b[38;5;28;01mif\u001b[39;00m (\n\u001b[0;32m   5256\u001b[0m     \u001b[38;5;28misinstance\u001b[39m(value, Index)\n\u001b[0;32m   5257\u001b[0m     \u001b[38;5;129;01mand\u001b[39;00m value\u001b[38;5;241m.\u001b[39mdtype \u001b[38;5;241m==\u001b[39m \u001b[38;5;124m\"\u001b[39m\u001b[38;5;124mobject\u001b[39m\u001b[38;5;124m\"\u001b[39m\n\u001b[1;32m   (...)\u001b[0m\n\u001b[0;32m   5260\u001b[0m     \u001b[38;5;66;03m# TODO: Remove kludge in sanitize_array for string mode when enforcing\u001b[39;00m\n\u001b[0;32m   5261\u001b[0m     \u001b[38;5;66;03m# this deprecation\u001b[39;00m\n",
      "File \u001b[1;32mc:\\Users\\daniel.martinezcarre\\AppData\\Local\\miniconda3\\envs\\deeplearning\\Lib\\site-packages\\pandas\\core\\common.py:573\u001b[0m, in \u001b[0;36mrequire_length_match\u001b[1;34m(data, index)\u001b[0m\n\u001b[0;32m    569\u001b[0m \u001b[38;5;250m\u001b[39m\u001b[38;5;124;03m\"\"\"\u001b[39;00m\n\u001b[0;32m    570\u001b[0m \u001b[38;5;124;03mCheck the length of data matches the length of the index.\u001b[39;00m\n\u001b[0;32m    571\u001b[0m \u001b[38;5;124;03m\"\"\"\u001b[39;00m\n\u001b[0;32m    572\u001b[0m \u001b[38;5;28;01mif\u001b[39;00m \u001b[38;5;28mlen\u001b[39m(data) \u001b[38;5;241m!=\u001b[39m \u001b[38;5;28mlen\u001b[39m(index):\n\u001b[1;32m--> 573\u001b[0m     \u001b[38;5;28;01mraise\u001b[39;00m \u001b[38;5;167;01mValueError\u001b[39;00m(\n\u001b[0;32m    574\u001b[0m         \u001b[38;5;124m\"\u001b[39m\u001b[38;5;124mLength of values \u001b[39m\u001b[38;5;124m\"\u001b[39m\n\u001b[0;32m    575\u001b[0m         \u001b[38;5;124mf\u001b[39m\u001b[38;5;124m\"\u001b[39m\u001b[38;5;124m(\u001b[39m\u001b[38;5;132;01m{\u001b[39;00m\u001b[38;5;28mlen\u001b[39m(data)\u001b[38;5;132;01m}\u001b[39;00m\u001b[38;5;124m) \u001b[39m\u001b[38;5;124m\"\u001b[39m\n\u001b[0;32m    576\u001b[0m         \u001b[38;5;124m\"\u001b[39m\u001b[38;5;124mdoes not match length of index \u001b[39m\u001b[38;5;124m\"\u001b[39m\n\u001b[0;32m    577\u001b[0m         \u001b[38;5;124mf\u001b[39m\u001b[38;5;124m\"\u001b[39m\u001b[38;5;124m(\u001b[39m\u001b[38;5;132;01m{\u001b[39;00m\u001b[38;5;28mlen\u001b[39m(index)\u001b[38;5;132;01m}\u001b[39;00m\u001b[38;5;124m)\u001b[39m\u001b[38;5;124m\"\u001b[39m\n\u001b[0;32m    578\u001b[0m     )\n",
      "\u001b[1;31mValueError\u001b[0m: Length of values (8982) does not match length of index (1000)"
     ]
    }
   ],
   "source": [
    "sentimientos = []\n",
    "puntuaciones = []\n",
    "\n",
    "for resultado, fila in zip(resultados, data_modelo.iterrows()):\n",
    "  # Relleno con valores predeterminados si la longitud del resultado es menor\n",
    "  if len(resultado) < len(data_modelo):\n",
    "    sentimientos.extend([\"NEUTRAL\"] * (len(data_modelo) - len(resultado)))\n",
    "    puntuaciones.extend([0.0] * (len(data_modelo) - len(resultado)))\n",
    "  else:\n",
    "    sentimientos.extend([resultado['label'] for resultado in resultados])\n",
    "    puntuaciones.extend([resultado['score'] for resultado in resultados])\n",
    "\n",
    "data_modelo['sentimiento'] = sentimientos\n",
    "data_modelo['puntuacion_sentimiento'] = puntuaciones\n"
   ]
  },
  {
   "cell_type": "code",
   "execution_count": null,
   "metadata": {},
   "outputs": [],
   "source": [
    "data_modelo"
   ]
  }
 ],
 "metadata": {
  "kernelspec": {
   "display_name": "deeplearning",
   "language": "python",
   "name": "python3"
  },
  "language_info": {
   "codemirror_mode": {
    "name": "ipython",
    "version": 3
   },
   "file_extension": ".py",
   "mimetype": "text/x-python",
   "name": "python",
   "nbconvert_exporter": "python",
   "pygments_lexer": "ipython3",
   "version": "3.12.2"
  }
 },
 "nbformat": 4,
 "nbformat_minor": 2
}
