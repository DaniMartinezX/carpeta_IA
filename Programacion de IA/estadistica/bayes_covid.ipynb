{
 "cells": [
  {
   "cell_type": "markdown",
   "metadata": {},
   "source": [
    "# Problema de Bayes\n",
    "## Test de Covid\n",
    "\n",
    "    Según los resultados resumidos del SD Biosensor STANDARD Q en una mayor población de 10 000 personas sin síntomas, en la que 50  personas tuvieran realmente covid-19:\n",
    "    - 125 personas darían positivo en la prueba de covid-19. De estas, 90 personas no tendrían covid-19 (resultado falso positivo).\n",
    "    - 9875 personas darían negativo en la prueba de covid-19. De estas, 15 personas  tendrían realmente covid-19 (resultado falso negativo).\n",
    "\n",
    "Calcula las probabilidades con los siguientes datos\n",
    "\n",
    "    Según los resultados resumidos del SD Biosensor STANDARD Q, si 1000 personas con síntomas se sometieran a la prueba de antígeno, y 50 de ellas tuvieran realmente covid-19:\n",
    "    - 53 personas darían positivo en la prueba de covid-19. De estas, nueve personas  no tendrían covid-19 (resultado falso positivo).\n",
    "    - 947 personas darían negativo en la prueba de covid-19. De estas, seis personas tendrían realmente covid-19 (resultado falso negativo).\n"
   ]
  },
  {
   "cell_type": "markdown",
   "metadata": {},
   "source": [
    "**SÍ infectados I**: 50 --->  **P(I)** = 50/10000 = 0.005<br>**NO infectados Í**: 9950 ---> **P(Í)** = 9950/10000 = 0.995<br>**Test+ T+**: 125   --->   **P(T+)** = 125/10000 = 0.0125<br>Test- **T-** = 9875  --->   **P(T-)** = 9875/10000 = 0.9875"
   ]
  },
  {
   "cell_type": "markdown",
   "metadata": {},
   "source": [
    "> T+ y NO infectados = 90 -- **P(T+/Í)** = 90/9950 = 0.009 -- **P(Í/T+)** = 90/125 = 0.72 <br>> T+ y I = 125-90 = 35 -- **P(T+/I)** = 35/50 = 0.70 -- **P(I/T+)** = 35/125 = 0.28<br>> T- y I = 15 -- **P(T-/I)** = 15/50 = 0.30 -- **P(I/T-)** = 15/9875 = 0.001519<br>> T- y Í = 9875-15 = 9860 -- **P(T-/Í)** = 9860/9950= 0.9909 -- **P(Í/T-)** = 9860/9875 = 0.9985 "
   ]
  },
  {
   "cell_type": "markdown",
   "metadata": {},
   "source": [
    "<table ><tr><th></th><th>Test +</th><th>Test -</th><th>Total</th></tr>\n",
    "<tr><td>Infección</td><td>35 (Verdaderos positivos)</td><td>15 (Falsos negativos)</td><td>50</td></tr>\n",
    "<tr><td>NO Infección</td><td>90 (Falsos positivos)</td><td>9860 (Verdaderos negativos)</td><td>9950</td></tr>\n",
    "<tr><td></td><td>53</td><td>1000-53=947</td><td>1000</td></tr>"
   ]
  },
  {
   "attachments": {
    "image.png": {
     "image/png": "[encoded data removed]"
    }
   },
   "cell_type": "markdown",
   "metadata": {},
   "source": [
    "![image.png](attachment:image.png)"
   ]
  },
  {
   "cell_type": "markdown",
   "metadata": {},
   "source": [
    "P(I/T+) = (  P(T+/I) * P(I)  ) / P(T+)<br>P(I/T+) = (0.70 * 0.005)/0.0125 = 0.28"
   ]
  },
  {
   "cell_type": "markdown",
   "metadata": {},
   "source": [
    "P(T+/I) = (53-9)/50 = 0.88<br>P(I) = 50/1000 = 0.05<br>P(T+) = 53/1000 = 0.053<br>P(I/T+) = (  P(T+/I) * P(I)  ) / P(T+) = (0.88 * 0.05)/0.053 = 0.83"
   ]
  }
 ],
 "metadata": {
  "language_info": {
   "name": "python"
  }
 },
 "nbformat": 4,
 "nbformat_minor": 2
}
