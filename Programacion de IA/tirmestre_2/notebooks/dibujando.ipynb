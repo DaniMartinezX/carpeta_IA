{
 "cells": [
  {
   "cell_type": "code",
   "execution_count": 2,
   "metadata": {},
   "outputs": [
    {
     "data": {
      "text/plain": [
       "<Figure size 1000x1000 with 0 Axes>"
      ]
     },
     "execution_count": 2,
     "metadata": {},
     "output_type": "execute_result"
    },
    {
     "data": {
      "text/plain": [
       "<Figure size 1000x1000 with 0 Axes>"
      ]
     },
     "metadata": {},
     "output_type": "display_data"
    }
   ],
   "source": [
    "import cv2 as cv\n",
    "import numpy as np\n",
    "from matplotlib import pyplot as plt\n",
    "\n",
    "plt.figure(figsize=(10,10))"
   ]
  },
  {
   "cell_type": "code",
   "execution_count": 15,
   "metadata": {},
   "outputs": [
    {
     "data": {
      "text/plain": [
       "<matplotlib.image.AxesImage at 0x1f89eace340>"
      ]
     },
     "execution_count": 15,
     "metadata": {},
     "output_type": "execute_result"
    },
    {
     "data": {
      "image/png": "[encoded data removed]",
      "text/plain": [
       "<Figure size 640x480 with 4 Axes>"
      ]
     },
     "metadata": {},
     "output_type": "display_data"
    }
   ],
   "source": [
    "# TEXTO\n",
    "img = np.zeros((512,512,3), np.uint8)\n",
    "plt.subplot(3,3,1)                               # Fuente        #tamaño-font    #BGR   # Grosor-lineas\n",
    "cv.putText(img, \"Prueba de texto\", (10, 300), cv.FONT_HERSHEY_SIMPLEX, 10, (255, 0 ,0), 14)\n",
    "plt.imshow(cv.cvtColor(img, cv.COLOR_BGR2RGB))\n",
    "\n",
    "# LÍNEA\n",
    "img = np.zeros((512,512,3), np.uint8)\n",
    "plt.subplot(3,3,2)\n",
    "cv.line(img, (0,0), (510,250), (255,0,0), 10)\n",
    "plt.imshow(cv.cvtColor(img, cv.COLOR_BGR2RGB))\n",
    "\n",
    "# RECTÁNGULO\n",
    "img = np.zeros((512,512,3), np.uint8)\n",
    "plt.subplot(3,3,3)\n",
    "cv.rectangle(img, (100,100), (510,250), (255,0,0), 10)  # Si es negativo el último valor es para hacer el rectángulo sólido\n",
    "plt.imshow(cv.cvtColor(img, cv.COLOR_BGR2RGB))\n",
    "\n",
    "# CÍRCULO\n",
    "img = np.zeros((512,512,3), np.uint8)\n",
    "plt.subplot(3,3,4)\n",
    "cv.circle(img, (100,100), 50, (255,0,0), -1)  # Si es negativo el último valor es para hacer el rectángulo sólido\n",
    "plt.imshow(cv.cvtColor(img, cv.COLOR_BGR2RGB))"
   ]
  }
 ],
 "metadata": {
  "kernelspec": {
   "display_name": "ia",
   "language": "python",
   "name": "python3"
  },
  "language_info": {
   "codemirror_mode": {
    "name": "ipython",
    "version": 3
   },
   "file_extension": ".py",
   "mimetype": "text/x-python",
   "name": "python",
   "nbconvert_exporter": "python",
   "pygments_lexer": "ipython3",
   "version": "3.8.18"
  }
 },
 "nbformat": 4,
 "nbformat_minor": 2
}
