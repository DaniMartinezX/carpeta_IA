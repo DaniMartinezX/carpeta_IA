{
 "cells": [
  {
   "cell_type": "code",
   "execution_count": 1,
   "metadata": {},
   "outputs": [
    {
     "name": "stdout",
     "output_type": "stream",
     "text": [
      "426\n"
     ]
    }
   ],
   "source": [
    "texto = \"\"\"Al igual que la Computación comienza su andadura como respuesta a la pregunta sobre las posibilidades de\n",
    "automatización de los procedimientos matemáticos, la IA surge de forma natural al plantear hasta qué punto aquellos\n",
    "procesos que consideramos propios de una inteligencia natural (en particular, la humana) podrían ser automatizables\n",
    "en mecanismos artificiales, tengan éstos un componente físico concreto o sólo conceptual.\"\"\"\n",
    "\n",
    "print(len(texto))"
   ]
  },
  {
   "cell_type": "code",
   "execution_count": 2,
   "metadata": {},
   "outputs": [
    {
     "name": "stdout",
     "output_type": "stream",
     "text": [
      "['\\n', ' ', '(', ')', ',', '.', 'A', 'C', 'I', 'a', 'b', 'c', 'd', 'e', 'f', 'g', 'h', 'i', 'l', 'm', 'n', 'o', 'p', 'q', 'r', 's', 't', 'u', 'z', 'á', 'é', 'í', 'ó']\n"
     ]
    }
   ],
   "source": [
    "vocabulario = sorted(list(set(texto)))\n",
    "print(vocabulario)"
   ]
  },
  {
   "cell_type": "code",
   "execution_count": 3,
   "metadata": {},
   "outputs": [
    {
     "name": "stdout",
     "output_type": "stream",
     "text": [
      "Vocabulario: \n",
      " (),.ACIabcdefghilmnopqrstuzáéíó tamaño: 33\n"
     ]
    }
   ],
   "source": [
    "print(f\"Vocabulario: {''.join(vocabulario)} tamaño: {len(vocabulario)}\")"
   ]
  },
  {
   "cell_type": "code",
   "execution_count": 4,
   "metadata": {},
   "outputs": [
    {
     "name": "stdout",
     "output_type": "stream",
     "text": [
      "{'\\n': 0, ' ': 1, '(': 2, ')': 3, ',': 4, '.': 5, 'A': 6, 'C': 7, 'I': 8, 'a': 9, 'b': 10, 'c': 11, 'd': 12, 'e': 13, 'f': 14, 'g': 15, 'h': 16, 'i': 17, 'l': 18, 'm': 19, 'n': 20, 'o': 21, 'p': 22, 'q': 23, 'r': 24, 's': 25, 't': 26, 'u': 27, 'z': 28, 'á': 29, 'é': 30, 'í': 31, 'ó': 32}\n",
      "{0: '\\n', 1: ' ', 2: '(', 3: ')', 4: ',', 5: '.', 6: 'A', 7: 'C', 8: 'I', 9: 'a', 10: 'b', 11: 'c', 12: 'd', 13: 'e', 14: 'f', 15: 'g', 16: 'h', 17: 'i', 18: 'l', 19: 'm', 20: 'n', 21: 'o', 22: 'p', 23: 'q', 24: 'r', 25: 's', 26: 't', 27: 'u', 28: 'z', 29: 'á', 30: 'é', 31: 'í', 32: 'ó'}\n"
     ]
    }
   ],
   "source": [
    "stoi = {ch:i for i,ch in enumerate(vocabulario)}\n",
    "print(stoi)\n",
    "itos = {i:ch for i,ch in enumerate(vocabulario)}\n",
    "print(itos)"
   ]
  },
  {
   "cell_type": "code",
   "execution_count": 7,
   "metadata": {},
   "outputs": [],
   "source": [
    "def tokeniza(s):\n",
    "    ret = [stoi[c] for c in s]\n",
    "    return ret\n",
    "def destokeniza(ltokens):\n",
    "    ret = \"\".join([itos[i] for i in ltokens])\n",
    "    return ret"
   ]
  },
  {
   "cell_type": "code",
   "execution_count": 9,
   "metadata": {},
   "outputs": [
    {
     "name": "stdout",
     "output_type": "stream",
     "text": [
      "[22, 13, 22, 17, 26, 21]\n",
      "pepito\n"
     ]
    }
   ],
   "source": [
    "print(tokeniza(\"pepito\"))\n",
    "print(destokeniza([22, 13, 22, 17, 26, 21]))"
   ]
  }
 ],
 "metadata": {
  "kernelspec": {
   "display_name": "ia",
   "language": "python",
   "name": "python3"
  },
  "language_info": {
   "codemirror_mode": {
    "name": "ipython",
    "version": 3
   },
   "file_extension": ".py",
   "mimetype": "text/x-python",
   "name": "python",
   "nbconvert_exporter": "python",
   "pygments_lexer": "ipython3",
   "version": "3.8.18"
  }
 },
 "nbformat": 4,
 "nbformat_minor": 2
}
