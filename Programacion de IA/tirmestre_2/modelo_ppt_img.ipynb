{
 "cells": [
  {
   "cell_type": "code",
   "execution_count": null,
   "metadata": {},
   "outputs": [],
   "source": [
    "import sys\n",
    "try:\n",
    "  import google.colab\n",
    "  IN_COLAB = True\n",
    "except:\n",
    "  IN_COLAB = False\n",
    "\n",
    "if IN_COLAB:\n",
    "    # montar el drive, que es donde tenemos el dataset\n",
    "    from google.colab import drive\n",
    "    drive.mount(\"/content/drive\")\n",
    "    data_dir = \"/content/drive/MyDrive/Colab Notebooks/opencv/imagenes/\"\n",
    "    sys.path.append(data_dir)\n",
    "else:\n",
    "    import os\n",
    "    data_dir = os.path.dirname(__file__) + \"/\"\n",
    "     "
   ]
  },
  {
   "cell_type": "markdown",
   "metadata": {},
   "source": [
    "## Instalación del paquete MediaPipe Model Macker"
   ]
  },
  {
   "cell_type": "code",
   "execution_count": null,
   "metadata": {},
   "outputs": [],
   "source": [
    "!pip install --upgrade pip\n",
    "!pip install mediapipe-model-maker"
   ]
  },
  {
   "cell_type": "code",
   "execution_count": 7,
   "metadata": {},
   "outputs": [],
   "source": [
    "import os\n",
    "from google.oauth2.service_account import Credentials\n",
    "from googleapiclient.discovery import build\n",
    "import tensorflow as tf\n",
    "import matplotlib.pyplot as plt"
   ]
  },
  {
   "cell_type": "code",
   "execution_count": 13,
   "metadata": {},
   "outputs": [
    {
     "ename": "DefaultCredentialsError",
     "evalue": "Your default credentials were not found. To set up Application Default Credentials, see https://cloud.google.com/docs/authentication/external/set-up-adc for more information.",
     "output_type": "error",
     "traceback": [
      "\u001b[1;31m---------------------------------------------------------------------------\u001b[0m",
      "\u001b[1;31mDefaultCredentialsError\u001b[0m                   Traceback (most recent call last)",
      "Cell \u001b[1;32mIn[13], line 45\u001b[0m\n\u001b[0;32m     38\u001b[0m     file \u001b[38;5;241m=\u001b[39m \u001b[38;5;28;01mNone\u001b[39;00m\n\u001b[0;32m     40\u001b[0m   \u001b[38;5;28;01mreturn\u001b[39;00m file\u001b[38;5;241m.\u001b[39mgetvalue()\n\u001b[1;32m---> 45\u001b[0m \u001b[43mdownload_file\u001b[49m\u001b[43m(\u001b[49m\u001b[38;5;124;43m\"\u001b[39;49m\u001b[38;5;124;43mhttps://drive.google.com/drive/folders/17pcpgxRsTzbJRbEPO0Y7r8g2NjhFsEbA?usp=sharing\u001b[39;49m\u001b[38;5;124;43m\"\u001b[39;49m\u001b[43m)\u001b[49m\n",
      "Cell \u001b[1;32mIn[13], line 19\u001b[0m, in \u001b[0;36mdownload_file\u001b[1;34m(real_file_id)\u001b[0m\n\u001b[0;32m      9\u001b[0m \u001b[38;5;28;01mdef\u001b[39;00m \u001b[38;5;21mdownload_file\u001b[39m(real_file_id):\n\u001b[0;32m     10\u001b[0m \u001b[38;5;250m  \u001b[39m\u001b[38;5;124;03m\"\"\"Downloads a file\u001b[39;00m\n\u001b[0;32m     11\u001b[0m \u001b[38;5;124;03m  Args:\u001b[39;00m\n\u001b[0;32m     12\u001b[0m \u001b[38;5;124;03m      real_file_id: ID of the file to download\u001b[39;00m\n\u001b[1;32m   (...)\u001b[0m\n\u001b[0;32m     17\u001b[0m \u001b[38;5;124;03m  for guides on implementing OAuth2 for the application.\u001b[39;00m\n\u001b[0;32m     18\u001b[0m \u001b[38;5;124;03m  \"\"\"\u001b[39;00m\n\u001b[1;32m---> 19\u001b[0m   creds, _ \u001b[38;5;241m=\u001b[39m \u001b[43mgoogle\u001b[49m\u001b[38;5;241;43m.\u001b[39;49m\u001b[43mauth\u001b[49m\u001b[38;5;241;43m.\u001b[39;49m\u001b[43mdefault\u001b[49m\u001b[43m(\u001b[49m\u001b[43m)\u001b[49m\n\u001b[0;32m     21\u001b[0m   \u001b[38;5;28;01mtry\u001b[39;00m:\n\u001b[0;32m     22\u001b[0m     \u001b[38;5;66;03m# create drive api client\u001b[39;00m\n\u001b[0;32m     23\u001b[0m     service \u001b[38;5;241m=\u001b[39m build(\u001b[38;5;124m\"\u001b[39m\u001b[38;5;124mdrive\u001b[39m\u001b[38;5;124m\"\u001b[39m, \u001b[38;5;124m\"\u001b[39m\u001b[38;5;124mv3\u001b[39m\u001b[38;5;124m\"\u001b[39m, credentials\u001b[38;5;241m=\u001b[39mcreds)\n",
      "File \u001b[1;32mc:\\Users\\daniel.martinezcarre\\AppData\\Local\\miniconda3\\envs\\ia\\lib\\site-packages\\google\\auth\\_default.py:692\u001b[0m, in \u001b[0;36mdefault\u001b[1;34m(scopes, request, quota_project_id, default_scopes)\u001b[0m\n\u001b[0;32m    684\u001b[0m             _LOGGER\u001b[38;5;241m.\u001b[39mwarning(\n\u001b[0;32m    685\u001b[0m                 \u001b[38;5;124m\"\u001b[39m\u001b[38;5;124mNo project ID could be determined. Consider running \u001b[39m\u001b[38;5;124m\"\u001b[39m\n\u001b[0;32m    686\u001b[0m                 \u001b[38;5;124m\"\u001b[39m\u001b[38;5;124m`gcloud config set project` or setting the \u001b[39m\u001b[38;5;132;01m%s\u001b[39;00m\u001b[38;5;124m \u001b[39m\u001b[38;5;124m\"\u001b[39m\n\u001b[0;32m    687\u001b[0m                 \u001b[38;5;124m\"\u001b[39m\u001b[38;5;124menvironment variable\u001b[39m\u001b[38;5;124m\"\u001b[39m,\n\u001b[0;32m    688\u001b[0m                 environment_vars\u001b[38;5;241m.\u001b[39mPROJECT,\n\u001b[0;32m    689\u001b[0m             )\n\u001b[0;32m    690\u001b[0m         \u001b[38;5;28;01mreturn\u001b[39;00m credentials, effective_project_id\n\u001b[1;32m--> 692\u001b[0m \u001b[38;5;28;01mraise\u001b[39;00m exceptions\u001b[38;5;241m.\u001b[39mDefaultCredentialsError(_CLOUD_SDK_MISSING_CREDENTIALS)\n",
      "\u001b[1;31mDefaultCredentialsError\u001b[0m: Your default credentials were not found. To set up Application Default Credentials, see https://cloud.google.com/docs/authentication/external/set-up-adc for more information."
     ]
    }
   ],
   "source": [
    "import io\n",
    "\n",
    "import google.auth\n",
    "from googleapiclient.discovery import build\n",
    "from googleapiclient.errors import HttpError\n",
    "from googleapiclient.http import MediaIoBaseDownload\n",
    "\n",
    "\n",
    "def download_file(real_file_id):\n",
    "  \"\"\"Downloads a file\n",
    "  Args:\n",
    "      real_file_id: ID of the file to download\n",
    "  Returns : IO object with location.\n",
    "\n",
    "  Load pre-authorized user credentials from the environment.\n",
    "  TODO(developer) - See https://developers.google.com/identity\n",
    "  for guides on implementing OAuth2 for the application.\n",
    "  \"\"\"\n",
    "  creds, _ = google.auth.default()\n",
    "\n",
    "  try:\n",
    "    # create drive api client\n",
    "    service = build(\"drive\", \"v3\", credentials=creds)\n",
    "\n",
    "    file_id = real_file_id\n",
    "\n",
    "    # pylint: disable=maybe-no-member\n",
    "    request = service.files().get_media(fileId=file_id)\n",
    "    file = io.BytesIO()\n",
    "    downloader = MediaIoBaseDownload(file, request)\n",
    "    done = False\n",
    "    while done is False:\n",
    "      status, done = downloader.next_chunk()\n",
    "      print(f\"Download {int(status.progress() * 100)}.\")\n",
    "\n",
    "  except HttpError as error:\n",
    "    print(f\"An error occurred: {error}\")\n",
    "    file = None\n",
    "\n",
    "  return file.getvalue()\n",
    "\n",
    "\n",
    "if __name__ == \"__main__\":\n",
    "  download_file(\"https://drive.google.com/drive/folders/17pcpgxRsTzbJRbEPO0Y7r8g2NjhFsEbA?usp=sharing\")"
   ]
  },
  {
   "cell_type": "code",
   "execution_count": 9,
   "metadata": {},
   "outputs": [
    {
     "name": "stderr",
     "output_type": "stream",
     "text": [
      "--2024-02-26 17:57:32--  https://drive.google.com/file/d/1mO1baQwZBBAFQxhw1vFeqfQSqTAHls07/view?usp=drive_link/dataset.pptn.zip\n",
      "Resolving drive.google.com (drive.google.com)... 142.250.200.110\n",
      "Connecting to drive.google.com (drive.google.com)|142.250.200.110|:443... connected.\n",
      "HTTP request sent, awaiting response... 200 OK\n",
      "Length: unspecified [text/html]\n",
      "Saving to: 'view@usp=drive_link%2Fdataset.pptn.zip'\n",
      "\n",
      "     0K .......... .......... .......... .......... .......... 2,34M\n",
      "    50K .......... .......... .......... .....                 4,03M=0,03s\n",
      "\n",
      "2024-02-26 17:57:33 (2,83 MB/s) - 'view@usp=drive_link%2Fdataset.pptn.zip' saved [87211]\n",
      "\n"
     ]
    }
   ],
   "source": [
    "!wget https://drive.google.com/file/d/1mO1baQwZBBAFQxhw1vFeqfQSqTAHls07/view?usp=drive_link\n",
    "# !unzip dataset_pptn.zip\n",
    "dataset_path = \"dataset_pptn\""
   ]
  }
 ],
 "metadata": {
  "kernelspec": {
   "display_name": "ia",
   "language": "python",
   "name": "python3"
  },
  "language_info": {
   "codemirror_mode": {
    "name": "ipython",
    "version": 3
   },
   "file_extension": ".py",
   "mimetype": "text/x-python",
   "name": "python",
   "nbconvert_exporter": "python",
   "pygments_lexer": "ipython3",
   "version": "3.8.18"
  }
 },
 "nbformat": 4,
 "nbformat_minor": 2
}
