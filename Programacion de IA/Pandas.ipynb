{
 "cells": [
  {
   "cell_type": "markdown",
   "metadata": {},
   "source": [
    "# Pandas\n",
    "Librería de Python especializada en la manipulación y el análisis de datos. Ofrece estructuras de datos y operaciones para manipular tablas numéricas y series temporales, es como el Excel de Python."
   ]
  },
  {
   "cell_type": "code",
   "execution_count": 2,
   "metadata": {},
   "outputs": [],
   "source": [
    "import numpy as np\n",
    "import pandas as pd"
   ]
  },
  {
   "cell_type": "markdown",
   "metadata": {},
   "source": [
    "> Columna con el índice de cada dato y el nombre de la serie completa"
   ]
  },
  {
   "cell_type": "code",
   "execution_count": 2,
   "metadata": {},
   "outputs": [
    {
     "data": {
      "text/plain": [
       "VentasA    10\n",
       "VentasB    11\n",
       "VentasC    12\n",
       "VentasD    13\n",
       "Name: VENTAS, dtype: int64"
      ]
     },
     "execution_count": 2,
     "metadata": {},
     "output_type": "execute_result"
    }
   ],
   "source": [
    "s = pd.Series((10,11,12,13), index=['VentasA','VentasB','VentasC','VentasD'], name = 'VENTAS')\n",
    "s"
   ]
  },
  {
   "cell_type": "code",
   "execution_count": 5,
   "metadata": {},
   "outputs": [
    {
     "data": {
      "text/plain": [
       "VentasA    10.0\n",
       "VentasB    11.0\n",
       "VentasC    12.0\n",
       "VentasD    13.0\n",
       "Name: VENTAS, dtype: float64"
      ]
     },
     "execution_count": 5,
     "metadata": {},
     "output_type": "execute_result"
    }
   ],
   "source": [
    "s.index\n",
    "#s.values\n",
    "s.astype(float) # Para cambiar el tipo."
   ]
  },
  {
   "cell_type": "markdown",
   "metadata": {},
   "source": [
    "### Buscadores"
   ]
  },
  {
   "cell_type": "code",
   "execution_count": 8,
   "metadata": {},
   "outputs": [
    {
     "data": {
      "text/plain": [
       "11"
      ]
     },
     "execution_count": 8,
     "metadata": {},
     "output_type": "execute_result"
    }
   ],
   "source": [
    "s.iloc[1]   # Acceder por POSICIÓN\n",
    "s.loc['VentasB']    # Accede por INDEX\n",
    "s[1:3]  # Por NÚMERO.\n",
    "s['VentasB']    # Por NOMBRE"
   ]
  },
  {
   "cell_type": "code",
   "execution_count": 10,
   "metadata": {},
   "outputs": [
    {
     "data": {
      "text/plain": [
       "VentasA    False\n",
       "VentasB    False\n",
       "VentasC     True\n",
       "VentasD     True\n",
       "Name: VENTAS, dtype: bool"
      ]
     },
     "execution_count": 10,
     "metadata": {},
     "output_type": "execute_result"
    }
   ],
   "source": [
    "s > 11"
   ]
  },
  {
   "cell_type": "code",
   "execution_count": 11,
   "metadata": {},
   "outputs": [
    {
     "data": {
      "text/plain": [
       "VentasC    12\n",
       "VentasD    13\n",
       "Name: VENTAS, dtype: int64"
      ]
     },
     "execution_count": 11,
     "metadata": {},
     "output_type": "execute_result"
    }
   ],
   "source": [
    "s[s > 11]"
   ]
  },
  {
   "cell_type": "markdown",
   "metadata": {},
   "source": [
    "> Se pueden realizar cálculos"
   ]
  },
  {
   "cell_type": "code",
   "execution_count": 12,
   "metadata": {},
   "outputs": [
    {
     "data": {
      "text/plain": [
       "VentasA    10\n",
       "VentasB    11\n",
       "VentasC    22\n",
       "VentasD    23\n",
       "Name: VENTAS, dtype: int64"
      ]
     },
     "execution_count": 12,
     "metadata": {},
     "output_type": "execute_result"
    }
   ],
   "source": [
    "s[s > 11] = s[s > 11] +10\n",
    "s"
   ]
  },
  {
   "cell_type": "code",
   "execution_count": 13,
   "metadata": {},
   "outputs": [
    {
     "data": {
      "text/plain": [
       "VENTAS\n",
       "10    1\n",
       "11    1\n",
       "22    1\n",
       "23    1\n",
       "Name: count, dtype: int64"
      ]
     },
     "execution_count": 13,
     "metadata": {},
     "output_type": "execute_result"
    }
   ],
   "source": [
    "s.value_counts()"
   ]
  },
  {
   "cell_type": "code",
   "execution_count": 14,
   "metadata": {},
   "outputs": [
    {
     "data": {
      "text/plain": [
       "array([10, 11, 22, 23], dtype=int64)"
      ]
     },
     "execution_count": 14,
     "metadata": {},
     "output_type": "execute_result"
    }
   ],
   "source": [
    "s.unique()  # Para mostrar los valores sin repetirse.\n",
    "s.mean()    # La media de los valores\n",
    "s.std() # Desviación estándar"
   ]
  },
  {
   "cell_type": "markdown",
   "metadata": {},
   "source": [
    "## Dataframes"
   ]
  },
  {
   "cell_type": "code",
   "execution_count": 3,
   "metadata": {},
   "outputs": [
    {
     "data": {
      "text/html": [
       "<div>\n",
       "<style scoped>\n",
       "    .dataframe tbody tr th:only-of-type {\n",
       "        vertical-align: middle;\n",
       "    }\n",
       "\n",
       "    .dataframe tbody tr th {\n",
       "        vertical-align: top;\n",
       "    }\n",
       "\n",
       "    .dataframe thead th {\n",
       "        text-align: right;\n",
       "    }\n",
       "</style>\n",
       "<table border=\"1\" class=\"dataframe\">\n",
       "  <thead>\n",
       "    <tr style=\"text-align: right;\">\n",
       "      <th></th>\n",
       "      <th>A</th>\n",
       "      <th>B</th>\n",
       "      <th>C</th>\n",
       "    </tr>\n",
       "  </thead>\n",
       "  <tbody>\n",
       "    <tr>\n",
       "      <th>0</th>\n",
       "      <td>1</td>\n",
       "      <td>4</td>\n",
       "      <td>7</td>\n",
       "    </tr>\n",
       "    <tr>\n",
       "      <th>1</th>\n",
       "      <td>2</td>\n",
       "      <td>5</td>\n",
       "      <td>8</td>\n",
       "    </tr>\n",
       "    <tr>\n",
       "      <th>2</th>\n",
       "      <td>3</td>\n",
       "      <td>6</td>\n",
       "      <td>9</td>\n",
       "    </tr>\n",
       "  </tbody>\n",
       "</table>\n",
       "</div>"
      ],
      "text/plain": [
       "   A  B  C\n",
       "0  1  4  7\n",
       "1  2  5  8\n",
       "2  3  6  9"
      ]
     },
     "execution_count": 3,
     "metadata": {},
     "output_type": "execute_result"
    }
   ],
   "source": [
    "df = pd.DataFrame({\"A\":[1,2,3], \"B\":[4,5,6], \"C\":[7,8,9]})\n",
    "df"
   ]
  },
  {
   "cell_type": "markdown",
   "metadata": {},
   "source": [
    "> También puede ser por **filas**"
   ]
  },
  {
   "cell_type": "code",
   "execution_count": 4,
   "metadata": {},
   "outputs": [
    {
     "data": {
      "text/html": [
       "<div>\n",
       "<style scoped>\n",
       "    .dataframe tbody tr th:only-of-type {\n",
       "        vertical-align: middle;\n",
       "    }\n",
       "\n",
       "    .dataframe tbody tr th {\n",
       "        vertical-align: top;\n",
       "    }\n",
       "\n",
       "    .dataframe thead th {\n",
       "        text-align: right;\n",
       "    }\n",
       "</style>\n",
       "<table border=\"1\" class=\"dataframe\">\n",
       "  <thead>\n",
       "    <tr style=\"text-align: right;\">\n",
       "      <th></th>\n",
       "      <th>A</th>\n",
       "      <th>B</th>\n",
       "      <th>C</th>\n",
       "    </tr>\n",
       "  </thead>\n",
       "  <tbody>\n",
       "    <tr>\n",
       "      <th>0</th>\n",
       "      <td>1</td>\n",
       "      <td>2</td>\n",
       "      <td>3</td>\n",
       "    </tr>\n",
       "    <tr>\n",
       "      <th>1</th>\n",
       "      <td>4</td>\n",
       "      <td>5</td>\n",
       "      <td>6</td>\n",
       "    </tr>\n",
       "  </tbody>\n",
       "</table>\n",
       "</div>"
      ],
      "text/plain": [
       "   A  B  C\n",
       "0  1  2  3\n",
       "1  4  5  6"
      ]
     },
     "execution_count": 4,
     "metadata": {},
     "output_type": "execute_result"
    }
   ],
   "source": [
    "df = pd.DataFrame([{\"A\":1, \"B\":2, \"C\":3}, {\"A\":4, \"B\":5, \"C\":6}])\n",
    "df"
   ]
  },
  {
   "cell_type": "code",
   "execution_count": 5,
   "metadata": {},
   "outputs": [
    {
     "data": {
      "text/html": [
       "<div>\n",
       "<style scoped>\n",
       "    .dataframe tbody tr th:only-of-type {\n",
       "        vertical-align: middle;\n",
       "    }\n",
       "\n",
       "    .dataframe tbody tr th {\n",
       "        vertical-align: top;\n",
       "    }\n",
       "\n",
       "    .dataframe thead th {\n",
       "        text-align: right;\n",
       "    }\n",
       "</style>\n",
       "<table border=\"1\" class=\"dataframe\">\n",
       "  <thead>\n",
       "    <tr style=\"text-align: right;\">\n",
       "      <th></th>\n",
       "      <th>0</th>\n",
       "      <th>1</th>\n",
       "      <th>2</th>\n",
       "    </tr>\n",
       "  </thead>\n",
       "  <tbody>\n",
       "    <tr>\n",
       "      <th>0</th>\n",
       "      <td>1</td>\n",
       "      <td>2</td>\n",
       "      <td>3</td>\n",
       "    </tr>\n",
       "    <tr>\n",
       "      <th>1</th>\n",
       "      <td>4</td>\n",
       "      <td>5</td>\n",
       "      <td>6</td>\n",
       "    </tr>\n",
       "    <tr>\n",
       "      <th>2</th>\n",
       "      <td>7</td>\n",
       "      <td>8</td>\n",
       "      <td>9</td>\n",
       "    </tr>\n",
       "  </tbody>\n",
       "</table>\n",
       "</div>"
      ],
      "text/plain": [
       "   0  1  2\n",
       "0  1  2  3\n",
       "1  4  5  6\n",
       "2  7  8  9"
      ]
     },
     "execution_count": 5,
     "metadata": {},
     "output_type": "execute_result"
    }
   ],
   "source": [
    "df = pd.DataFrame([[1,2,3], [4,5,6], [7,8,9]])\n",
    "df"
   ]
  },
  {
   "cell_type": "code",
   "execution_count": 8,
   "metadata": {},
   "outputs": [
    {
     "data": {
      "text/html": [
       "<div>\n",
       "<style scoped>\n",
       "    .dataframe tbody tr th:only-of-type {\n",
       "        vertical-align: middle;\n",
       "    }\n",
       "\n",
       "    .dataframe tbody tr th {\n",
       "        vertical-align: top;\n",
       "    }\n",
       "\n",
       "    .dataframe thead th {\n",
       "        text-align: right;\n",
       "    }\n",
       "</style>\n",
       "<table border=\"1\" class=\"dataframe\">\n",
       "  <thead>\n",
       "    <tr style=\"text-align: right;\">\n",
       "      <th></th>\n",
       "      <th>A</th>\n",
       "      <th>B</th>\n",
       "      <th>C</th>\n",
       "    </tr>\n",
       "  </thead>\n",
       "  <tbody>\n",
       "    <tr>\n",
       "      <th>0</th>\n",
       "      <td>1</td>\n",
       "      <td>2</td>\n",
       "      <td>3</td>\n",
       "    </tr>\n",
       "    <tr>\n",
       "      <th>1</th>\n",
       "      <td>4</td>\n",
       "      <td>5</td>\n",
       "      <td>6</td>\n",
       "    </tr>\n",
       "    <tr>\n",
       "      <th>2</th>\n",
       "      <td>7</td>\n",
       "      <td>8</td>\n",
       "      <td>9</td>\n",
       "    </tr>\n",
       "  </tbody>\n",
       "</table>\n",
       "</div>"
      ],
      "text/plain": [
       "   A  B  C\n",
       "0  1  2  3\n",
       "1  4  5  6\n",
       "2  7  8  9"
      ]
     },
     "execution_count": 8,
     "metadata": {},
     "output_type": "execute_result"
    }
   ],
   "source": [
    "df = pd.DataFrame([[1,2,3], [4,5,6], [7,8,9]], columns=[\"A\", \"B\", \"C\"])\n",
    "df"
   ]
  },
  {
   "cell_type": "markdown",
   "metadata": {},
   "source": [
    "> Algo de Web Scraping ..."
   ]
  },
  {
   "cell_type": "code",
   "execution_count": 33,
   "metadata": {},
   "outputs": [
    {
     "data": {
      "text/html": [
       "<div>\n",
       "<style scoped>\n",
       "    .dataframe tbody tr th:only-of-type {\n",
       "        vertical-align: middle;\n",
       "    }\n",
       "\n",
       "    .dataframe tbody tr th {\n",
       "        vertical-align: top;\n",
       "    }\n",
       "\n",
       "    .dataframe thead th {\n",
       "        text-align: right;\n",
       "    }\n",
       "</style>\n",
       "<table border=\"1\" class=\"dataframe\">\n",
       "  <thead>\n",
       "    <tr style=\"text-align: right;\">\n",
       "      <th></th>\n",
       "      <th>Isla (excepto La Graciosa)</th>\n",
       "      <th>Bandera</th>\n",
       "      <th>Escudo</th>\n",
       "      <th>Municipios</th>\n",
       "      <th>Capital</th>\n",
       "      <th>Área (km²)</th>\n",
       "      <th>Población (2022)[18]​</th>\n",
       "    </tr>\n",
       "  </thead>\n",
       "  <tbody>\n",
       "    <tr>\n",
       "      <th>0</th>\n",
       "      <td>El Hierro</td>\n",
       "      <td>NaN</td>\n",
       "      <td>NaN</td>\n",
       "      <td>3</td>\n",
       "      <td>Valverde</td>\n",
       "      <td>26871</td>\n",
       "      <td>11 423</td>\n",
       "    </tr>\n",
       "    <tr>\n",
       "      <th>1</th>\n",
       "      <td>Fuerteventura[nota 10]​</td>\n",
       "      <td>NaN</td>\n",
       "      <td>NaN</td>\n",
       "      <td>6</td>\n",
       "      <td>Puerto del Rosario</td>\n",
       "      <td>1665,74[nota 11]​</td>\n",
       "      <td>120 021</td>\n",
       "    </tr>\n",
       "    <tr>\n",
       "      <th>2</th>\n",
       "      <td>Gran Canaria</td>\n",
       "      <td>NaN</td>\n",
       "      <td>NaN</td>\n",
       "      <td>21</td>\n",
       "      <td>Las Palmas de Gran Canaria</td>\n",
       "      <td>156010</td>\n",
       "      <td>853 262</td>\n",
       "    </tr>\n",
       "    <tr>\n",
       "      <th>3</th>\n",
       "      <td>La Gomera</td>\n",
       "      <td>NaN</td>\n",
       "      <td>NaN</td>\n",
       "      <td>6</td>\n",
       "      <td>San Sebastián de La Gomera</td>\n",
       "      <td>36976</td>\n",
       "      <td>21 798</td>\n",
       "    </tr>\n",
       "    <tr>\n",
       "      <th>4</th>\n",
       "      <td>Lanzarote[nota 12]​</td>\n",
       "      <td>NaN</td>\n",
       "      <td>NaN</td>\n",
       "      <td>7</td>\n",
       "      <td>Arrecife</td>\n",
       "      <td>888,07[nota 13]​</td>\n",
       "      <td>156 112[nota 14]​</td>\n",
       "    </tr>\n",
       "    <tr>\n",
       "      <th>5</th>\n",
       "      <td>La Palma</td>\n",
       "      <td>NaN</td>\n",
       "      <td>NaN</td>\n",
       "      <td>14</td>\n",
       "      <td>Santa Cruz de La Palma</td>\n",
       "      <td>70832</td>\n",
       "      <td>83 439</td>\n",
       "    </tr>\n",
       "    <tr>\n",
       "      <th>6</th>\n",
       "      <td>Tenerife</td>\n",
       "      <td>NaN</td>\n",
       "      <td>NaN</td>\n",
       "      <td>31</td>\n",
       "      <td>Santa Cruz de Tenerife</td>\n",
       "      <td>203438</td>\n",
       "      <td>931 646</td>\n",
       "    </tr>\n",
       "  </tbody>\n",
       "</table>\n",
       "</div>"
      ],
      "text/plain": [
       "  Isla (excepto La Graciosa)  Bandera  Escudo  Municipios  \\\n",
       "0                  El Hierro      NaN     NaN           3   \n",
       "1    Fuerteventura[nota 10]​      NaN     NaN           6   \n",
       "2               Gran Canaria      NaN     NaN          21   \n",
       "3                  La Gomera      NaN     NaN           6   \n",
       "4        Lanzarote[nota 12]​      NaN     NaN           7   \n",
       "5                   La Palma      NaN     NaN          14   \n",
       "6                   Tenerife      NaN     NaN          31   \n",
       "\n",
       "                      Capital         Área (km²) Población (2022)[18]​  \n",
       "0                    Valverde              26871                11 423  \n",
       "1          Puerto del Rosario  1665,74[nota 11]​               120 021  \n",
       "2  Las Palmas de Gran Canaria             156010               853 262  \n",
       "3  San Sebastián de La Gomera              36976                21 798  \n",
       "4                    Arrecife   888,07[nota 13]​     156 112[nota 14]​  \n",
       "5      Santa Cruz de La Palma              70832                83 439  \n",
       "6      Santa Cruz de Tenerife             203438               931 646  "
      ]
     },
     "execution_count": 33,
     "metadata": {},
     "output_type": "execute_result"
    }
   ],
   "source": [
    "dfl = pd.read_html(\"https://es.wikipedia.org/wiki/Canarias\")\n",
    "dfl\n",
    "df = dfl[9]\n",
    "df"
   ]
  },
  {
   "cell_type": "markdown",
   "metadata": {},
   "source": [
    "> Para **eliminar alguna columna** sin datos importantes"
   ]
  },
  {
   "cell_type": "code",
   "execution_count": 34,
   "metadata": {},
   "outputs": [
    {
     "data": {
      "text/html": [
       "<div>\n",
       "<style scoped>\n",
       "    .dataframe tbody tr th:only-of-type {\n",
       "        vertical-align: middle;\n",
       "    }\n",
       "\n",
       "    .dataframe tbody tr th {\n",
       "        vertical-align: top;\n",
       "    }\n",
       "\n",
       "    .dataframe thead th {\n",
       "        text-align: right;\n",
       "    }\n",
       "</style>\n",
       "<table border=\"1\" class=\"dataframe\">\n",
       "  <thead>\n",
       "    <tr style=\"text-align: right;\">\n",
       "      <th></th>\n",
       "      <th>Isla (excepto La Graciosa)</th>\n",
       "      <th>Municipios</th>\n",
       "      <th>Capital</th>\n",
       "      <th>Área (km²)</th>\n",
       "      <th>Población (2022)[18]​</th>\n",
       "    </tr>\n",
       "  </thead>\n",
       "  <tbody>\n",
       "    <tr>\n",
       "      <th>0</th>\n",
       "      <td>El Hierro</td>\n",
       "      <td>3</td>\n",
       "      <td>Valverde</td>\n",
       "      <td>26871</td>\n",
       "      <td>11 423</td>\n",
       "    </tr>\n",
       "    <tr>\n",
       "      <th>1</th>\n",
       "      <td>Fuerteventura[nota 10]​</td>\n",
       "      <td>6</td>\n",
       "      <td>Puerto del Rosario</td>\n",
       "      <td>1665,74[nota 11]​</td>\n",
       "      <td>120 021</td>\n",
       "    </tr>\n",
       "    <tr>\n",
       "      <th>2</th>\n",
       "      <td>Gran Canaria</td>\n",
       "      <td>21</td>\n",
       "      <td>Las Palmas de Gran Canaria</td>\n",
       "      <td>156010</td>\n",
       "      <td>853 262</td>\n",
       "    </tr>\n",
       "    <tr>\n",
       "      <th>3</th>\n",
       "      <td>La Gomera</td>\n",
       "      <td>6</td>\n",
       "      <td>San Sebastián de La Gomera</td>\n",
       "      <td>36976</td>\n",
       "      <td>21 798</td>\n",
       "    </tr>\n",
       "    <tr>\n",
       "      <th>4</th>\n",
       "      <td>Lanzarote[nota 12]​</td>\n",
       "      <td>7</td>\n",
       "      <td>Arrecife</td>\n",
       "      <td>888,07[nota 13]​</td>\n",
       "      <td>156 112[nota 14]​</td>\n",
       "    </tr>\n",
       "    <tr>\n",
       "      <th>5</th>\n",
       "      <td>La Palma</td>\n",
       "      <td>14</td>\n",
       "      <td>Santa Cruz de La Palma</td>\n",
       "      <td>70832</td>\n",
       "      <td>83 439</td>\n",
       "    </tr>\n",
       "    <tr>\n",
       "      <th>6</th>\n",
       "      <td>Tenerife</td>\n",
       "      <td>31</td>\n",
       "      <td>Santa Cruz de Tenerife</td>\n",
       "      <td>203438</td>\n",
       "      <td>931 646</td>\n",
       "    </tr>\n",
       "  </tbody>\n",
       "</table>\n",
       "</div>"
      ],
      "text/plain": [
       "  Isla (excepto La Graciosa)  Municipios                     Capital  \\\n",
       "0                  El Hierro           3                    Valverde   \n",
       "1    Fuerteventura[nota 10]​           6          Puerto del Rosario   \n",
       "2               Gran Canaria          21  Las Palmas de Gran Canaria   \n",
       "3                  La Gomera           6  San Sebastián de La Gomera   \n",
       "4        Lanzarote[nota 12]​           7                    Arrecife   \n",
       "5                   La Palma          14      Santa Cruz de La Palma   \n",
       "6                   Tenerife          31      Santa Cruz de Tenerife   \n",
       "\n",
       "          Área (km²) Población (2022)[18]​  \n",
       "0              26871                11 423  \n",
       "1  1665,74[nota 11]​               120 021  \n",
       "2             156010               853 262  \n",
       "3              36976                21 798  \n",
       "4   888,07[nota 13]​     156 112[nota 14]​  \n",
       "5              70832                83 439  \n",
       "6             203438               931 646  "
      ]
     },
     "execution_count": 34,
     "metadata": {},
     "output_type": "execute_result"
    }
   ],
   "source": [
    "df.columns\n",
    "df.drop([\"Bandera\", \"Escudo\"], axis = 1, inplace = True)    # El 'implace=True' es para no realizar ninguna copia, ya que lo hace por defecto.\n",
    "                               #COLUMNAS\n",
    "df"
   ]
  },
  {
   "cell_type": "code",
   "execution_count": 35,
   "metadata": {},
   "outputs": [
    {
     "data": {
      "text/html": [
       "<div>\n",
       "<style scoped>\n",
       "    .dataframe tbody tr th:only-of-type {\n",
       "        vertical-align: middle;\n",
       "    }\n",
       "\n",
       "    .dataframe tbody tr th {\n",
       "        vertical-align: top;\n",
       "    }\n",
       "\n",
       "    .dataframe thead th {\n",
       "        text-align: right;\n",
       "    }\n",
       "</style>\n",
       "<table border=\"1\" class=\"dataframe\">\n",
       "  <thead>\n",
       "    <tr style=\"text-align: right;\">\n",
       "      <th></th>\n",
       "      <th>Isla</th>\n",
       "      <th>Municipios</th>\n",
       "      <th>Capital</th>\n",
       "      <th>Area</th>\n",
       "      <th>Poblacion</th>\n",
       "    </tr>\n",
       "  </thead>\n",
       "  <tbody>\n",
       "    <tr>\n",
       "      <th>0</th>\n",
       "      <td>El Hierro</td>\n",
       "      <td>3</td>\n",
       "      <td>Valverde</td>\n",
       "      <td>26871</td>\n",
       "      <td>11 423</td>\n",
       "    </tr>\n",
       "    <tr>\n",
       "      <th>1</th>\n",
       "      <td>Fuerteventura[nota 10]​</td>\n",
       "      <td>6</td>\n",
       "      <td>Puerto del Rosario</td>\n",
       "      <td>1665,74[nota 11]​</td>\n",
       "      <td>120 021</td>\n",
       "    </tr>\n",
       "    <tr>\n",
       "      <th>2</th>\n",
       "      <td>Gran Canaria</td>\n",
       "      <td>21</td>\n",
       "      <td>Las Palmas de Gran Canaria</td>\n",
       "      <td>156010</td>\n",
       "      <td>853 262</td>\n",
       "    </tr>\n",
       "    <tr>\n",
       "      <th>3</th>\n",
       "      <td>La Gomera</td>\n",
       "      <td>6</td>\n",
       "      <td>San Sebastián de La Gomera</td>\n",
       "      <td>36976</td>\n",
       "      <td>21 798</td>\n",
       "    </tr>\n",
       "    <tr>\n",
       "      <th>4</th>\n",
       "      <td>Lanzarote[nota 12]​</td>\n",
       "      <td>7</td>\n",
       "      <td>Arrecife</td>\n",
       "      <td>888,07[nota 13]​</td>\n",
       "      <td>156 112[nota 14]​</td>\n",
       "    </tr>\n",
       "    <tr>\n",
       "      <th>5</th>\n",
       "      <td>La Palma</td>\n",
       "      <td>14</td>\n",
       "      <td>Santa Cruz de La Palma</td>\n",
       "      <td>70832</td>\n",
       "      <td>83 439</td>\n",
       "    </tr>\n",
       "    <tr>\n",
       "      <th>6</th>\n",
       "      <td>Tenerife</td>\n",
       "      <td>31</td>\n",
       "      <td>Santa Cruz de Tenerife</td>\n",
       "      <td>203438</td>\n",
       "      <td>931 646</td>\n",
       "    </tr>\n",
       "  </tbody>\n",
       "</table>\n",
       "</div>"
      ],
      "text/plain": [
       "                      Isla  Municipios                     Capital  \\\n",
       "0                El Hierro           3                    Valverde   \n",
       "1  Fuerteventura[nota 10]​           6          Puerto del Rosario   \n",
       "2             Gran Canaria          21  Las Palmas de Gran Canaria   \n",
       "3                La Gomera           6  San Sebastián de La Gomera   \n",
       "4      Lanzarote[nota 12]​           7                    Arrecife   \n",
       "5                 La Palma          14      Santa Cruz de La Palma   \n",
       "6                 Tenerife          31      Santa Cruz de Tenerife   \n",
       "\n",
       "                Area          Poblacion  \n",
       "0              26871             11 423  \n",
       "1  1665,74[nota 11]​            120 021  \n",
       "2             156010            853 262  \n",
       "3              36976             21 798  \n",
       "4   888,07[nota 13]​  156 112[nota 14]​  \n",
       "5              70832             83 439  \n",
       "6             203438            931 646  "
      ]
     },
     "execution_count": 35,
     "metadata": {},
     "output_type": "execute_result"
    }
   ],
   "source": [
    "df.columns = [\"Isla\", \"Municipios\", \"Capital\", \"Area\", \"Poblacion\"]\n",
    "df"
   ]
  },
  {
   "cell_type": "code",
   "execution_count": 36,
   "metadata": {},
   "outputs": [
    {
     "data": {
      "text/plain": [
       "0                26871\n",
       "1    1665,74[nota 11]​\n",
       "2               156010\n",
       "3                36976\n",
       "4     888,07[nota 13]​\n",
       "5                70832\n",
       "6               203438\n",
       "Name: Area, dtype: object"
      ]
     },
     "execution_count": 36,
     "metadata": {},
     "output_type": "execute_result"
    }
   ],
   "source": [
    "df[\"Area\"]"
   ]
  },
  {
   "cell_type": "code",
   "execution_count": 37,
   "metadata": {},
   "outputs": [
    {
     "data": {
      "text/plain": [
       "0     26871.0\n",
       "1      1665.0\n",
       "2    156010.0\n",
       "3     36976.0\n",
       "4       888.0\n",
       "5     70832.0\n",
       "6    203438.0\n",
       "Name: Area, dtype: float64"
      ]
     },
     "execution_count": 37,
     "metadata": {},
     "output_type": "execute_result"
    }
   ],
   "source": [
    "df[\"Area\"].str.replace(\",\",\".\")\n",
    "df[\"Area\"] = df[\"Area\"].str.extract(f\"(^[.0-9]+)\")\n",
    "df[\"Area\"] = df[\"Area\"].astype(float)\n",
    "df[\"Area\"]"
   ]
  },
  {
   "cell_type": "code",
   "execution_count": 38,
   "metadata": {},
   "outputs": [
    {
     "name": "stdout",
     "output_type": "stream",
     "text": [
      "11 423\n",
      "49\n",
      "49\n",
      "160\n",
      "52\n",
      "50\n",
      "51\n"
     ]
    }
   ],
   "source": [
    "s = df.Poblacion.iloc[0]\n",
    "print(s)\n",
    "for i in s:\n",
    "    print(ord(i))\n"
   ]
  },
  {
   "cell_type": "markdown",
   "metadata": {},
   "source": [
    "> Reemplazamos el espacio por nada, y quitamos las [notas] de la columna Población con una expresión regular."
   ]
  },
  {
   "cell_type": "code",
   "execution_count": 39,
   "metadata": {},
   "outputs": [
    {
     "data": {
      "text/html": [
       "<div>\n",
       "<style scoped>\n",
       "    .dataframe tbody tr th:only-of-type {\n",
       "        vertical-align: middle;\n",
       "    }\n",
       "\n",
       "    .dataframe tbody tr th {\n",
       "        vertical-align: top;\n",
       "    }\n",
       "\n",
       "    .dataframe thead th {\n",
       "        text-align: right;\n",
       "    }\n",
       "</style>\n",
       "<table border=\"1\" class=\"dataframe\">\n",
       "  <thead>\n",
       "    <tr style=\"text-align: right;\">\n",
       "      <th></th>\n",
       "      <th>Isla</th>\n",
       "      <th>Municipios</th>\n",
       "      <th>Capital</th>\n",
       "      <th>Area</th>\n",
       "      <th>Poblacion</th>\n",
       "    </tr>\n",
       "  </thead>\n",
       "  <tbody>\n",
       "    <tr>\n",
       "      <th>0</th>\n",
       "      <td>El Hierro</td>\n",
       "      <td>3</td>\n",
       "      <td>Valverde</td>\n",
       "      <td>26871.0</td>\n",
       "      <td>11423.0</td>\n",
       "    </tr>\n",
       "    <tr>\n",
       "      <th>1</th>\n",
       "      <td>Fuerteventura[nota 10]​</td>\n",
       "      <td>6</td>\n",
       "      <td>Puerto del Rosario</td>\n",
       "      <td>1665.0</td>\n",
       "      <td>120021.0</td>\n",
       "    </tr>\n",
       "    <tr>\n",
       "      <th>2</th>\n",
       "      <td>Gran Canaria</td>\n",
       "      <td>21</td>\n",
       "      <td>Las Palmas de Gran Canaria</td>\n",
       "      <td>156010.0</td>\n",
       "      <td>853262.0</td>\n",
       "    </tr>\n",
       "    <tr>\n",
       "      <th>3</th>\n",
       "      <td>La Gomera</td>\n",
       "      <td>6</td>\n",
       "      <td>San Sebastián de La Gomera</td>\n",
       "      <td>36976.0</td>\n",
       "      <td>21798.0</td>\n",
       "    </tr>\n",
       "    <tr>\n",
       "      <th>4</th>\n",
       "      <td>Lanzarote[nota 12]​</td>\n",
       "      <td>7</td>\n",
       "      <td>Arrecife</td>\n",
       "      <td>888.0</td>\n",
       "      <td>156112.0</td>\n",
       "    </tr>\n",
       "    <tr>\n",
       "      <th>5</th>\n",
       "      <td>La Palma</td>\n",
       "      <td>14</td>\n",
       "      <td>Santa Cruz de La Palma</td>\n",
       "      <td>70832.0</td>\n",
       "      <td>83439.0</td>\n",
       "    </tr>\n",
       "    <tr>\n",
       "      <th>6</th>\n",
       "      <td>Tenerife</td>\n",
       "      <td>31</td>\n",
       "      <td>Santa Cruz de Tenerife</td>\n",
       "      <td>203438.0</td>\n",
       "      <td>931646.0</td>\n",
       "    </tr>\n",
       "  </tbody>\n",
       "</table>\n",
       "</div>"
      ],
      "text/plain": [
       "                      Isla  Municipios                     Capital      Area  \\\n",
       "0                El Hierro           3                    Valverde   26871.0   \n",
       "1  Fuerteventura[nota 10]​           6          Puerto del Rosario    1665.0   \n",
       "2             Gran Canaria          21  Las Palmas de Gran Canaria  156010.0   \n",
       "3                La Gomera           6  San Sebastián de La Gomera   36976.0   \n",
       "4      Lanzarote[nota 12]​           7                    Arrecife     888.0   \n",
       "5                 La Palma          14      Santa Cruz de La Palma   70832.0   \n",
       "6                 Tenerife          31      Santa Cruz de Tenerife  203438.0   \n",
       "\n",
       "   Poblacion  \n",
       "0    11423.0  \n",
       "1   120021.0  \n",
       "2   853262.0  \n",
       "3    21798.0  \n",
       "4   156112.0  \n",
       "5    83439.0  \n",
       "6   931646.0  "
      ]
     },
     "execution_count": 39,
     "metadata": {},
     "output_type": "execute_result"
    }
   ],
   "source": [
    "df[\"Poblacion\"] = df[\"Poblacion\"].str.replace(chr(160), \"\").str.extract(f\"(^[.0-9]+)\").astype(float)\n",
    "df"
   ]
  },
  {
   "cell_type": "markdown",
   "metadata": {},
   "source": [
    "> Ahora quitamos las [notas] con la columna \"Isla\""
   ]
  },
  {
   "cell_type": "code",
   "execution_count": 40,
   "metadata": {},
   "outputs": [
    {
     "data": {
      "text/html": [
       "<div>\n",
       "<style scoped>\n",
       "    .dataframe tbody tr th:only-of-type {\n",
       "        vertical-align: middle;\n",
       "    }\n",
       "\n",
       "    .dataframe tbody tr th {\n",
       "        vertical-align: top;\n",
       "    }\n",
       "\n",
       "    .dataframe thead th {\n",
       "        text-align: right;\n",
       "    }\n",
       "</style>\n",
       "<table border=\"1\" class=\"dataframe\">\n",
       "  <thead>\n",
       "    <tr style=\"text-align: right;\">\n",
       "      <th></th>\n",
       "      <th>Isla</th>\n",
       "      <th>Municipios</th>\n",
       "      <th>Capital</th>\n",
       "      <th>Area</th>\n",
       "      <th>Poblacion</th>\n",
       "    </tr>\n",
       "  </thead>\n",
       "  <tbody>\n",
       "    <tr>\n",
       "      <th>0</th>\n",
       "      <td>El Hierro</td>\n",
       "      <td>3</td>\n",
       "      <td>Valverde</td>\n",
       "      <td>26871.0</td>\n",
       "      <td>11423.0</td>\n",
       "    </tr>\n",
       "    <tr>\n",
       "      <th>1</th>\n",
       "      <td>Fuerteventura</td>\n",
       "      <td>6</td>\n",
       "      <td>Puerto del Rosario</td>\n",
       "      <td>1665.0</td>\n",
       "      <td>120021.0</td>\n",
       "    </tr>\n",
       "    <tr>\n",
       "      <th>2</th>\n",
       "      <td>Gran Canaria</td>\n",
       "      <td>21</td>\n",
       "      <td>Las Palmas de Gran Canaria</td>\n",
       "      <td>156010.0</td>\n",
       "      <td>853262.0</td>\n",
       "    </tr>\n",
       "    <tr>\n",
       "      <th>3</th>\n",
       "      <td>La Gomera</td>\n",
       "      <td>6</td>\n",
       "      <td>San Sebastián de La Gomera</td>\n",
       "      <td>36976.0</td>\n",
       "      <td>21798.0</td>\n",
       "    </tr>\n",
       "    <tr>\n",
       "      <th>4</th>\n",
       "      <td>Lanzarote</td>\n",
       "      <td>7</td>\n",
       "      <td>Arrecife</td>\n",
       "      <td>888.0</td>\n",
       "      <td>156112.0</td>\n",
       "    </tr>\n",
       "    <tr>\n",
       "      <th>5</th>\n",
       "      <td>La Palma</td>\n",
       "      <td>14</td>\n",
       "      <td>Santa Cruz de La Palma</td>\n",
       "      <td>70832.0</td>\n",
       "      <td>83439.0</td>\n",
       "    </tr>\n",
       "    <tr>\n",
       "      <th>6</th>\n",
       "      <td>Tenerife</td>\n",
       "      <td>31</td>\n",
       "      <td>Santa Cruz de Tenerife</td>\n",
       "      <td>203438.0</td>\n",
       "      <td>931646.0</td>\n",
       "    </tr>\n",
       "  </tbody>\n",
       "</table>\n",
       "</div>"
      ],
      "text/plain": [
       "            Isla  Municipios                     Capital      Area  Poblacion\n",
       "0      El Hierro           3                    Valverde   26871.0    11423.0\n",
       "1  Fuerteventura           6          Puerto del Rosario    1665.0   120021.0\n",
       "2   Gran Canaria          21  Las Palmas de Gran Canaria  156010.0   853262.0\n",
       "3      La Gomera           6  San Sebastián de La Gomera   36976.0    21798.0\n",
       "4      Lanzarote           7                    Arrecife     888.0   156112.0\n",
       "5       La Palma          14      Santa Cruz de La Palma   70832.0    83439.0\n",
       "6       Tenerife          31      Santa Cruz de Tenerife  203438.0   931646.0"
      ]
     },
     "execution_count": 40,
     "metadata": {},
     "output_type": "execute_result"
    }
   ],
   "source": [
    "df[\"Isla\"] = df[\"Isla\"].str.extract(r\"(^[^\\[]+)\")\n",
    "df"
   ]
  },
  {
   "cell_type": "code",
   "execution_count": 41,
   "metadata": {},
   "outputs": [
    {
     "data": {
      "text/html": [
       "<div>\n",
       "<style scoped>\n",
       "    .dataframe tbody tr th:only-of-type {\n",
       "        vertical-align: middle;\n",
       "    }\n",
       "\n",
       "    .dataframe tbody tr th {\n",
       "        vertical-align: top;\n",
       "    }\n",
       "\n",
       "    .dataframe thead th {\n",
       "        text-align: right;\n",
       "    }\n",
       "</style>\n",
       "<table border=\"1\" class=\"dataframe\">\n",
       "  <thead>\n",
       "    <tr style=\"text-align: right;\">\n",
       "      <th></th>\n",
       "      <th>Municipios</th>\n",
       "      <th>Area</th>\n",
       "      <th>Poblacion</th>\n",
       "    </tr>\n",
       "  </thead>\n",
       "  <tbody>\n",
       "    <tr>\n",
       "      <th>count</th>\n",
       "      <td>7.000000</td>\n",
       "      <td>7.000000</td>\n",
       "      <td>7.000000</td>\n",
       "    </tr>\n",
       "    <tr>\n",
       "      <th>mean</th>\n",
       "      <td>12.571429</td>\n",
       "      <td>70954.285714</td>\n",
       "      <td>311100.142857</td>\n",
       "    </tr>\n",
       "    <tr>\n",
       "      <th>std</th>\n",
       "      <td>10.179344</td>\n",
       "      <td>79156.567979</td>\n",
       "      <td>401015.568941</td>\n",
       "    </tr>\n",
       "    <tr>\n",
       "      <th>min</th>\n",
       "      <td>3.000000</td>\n",
       "      <td>888.000000</td>\n",
       "      <td>11423.000000</td>\n",
       "    </tr>\n",
       "    <tr>\n",
       "      <th>25%</th>\n",
       "      <td>6.000000</td>\n",
       "      <td>14268.000000</td>\n",
       "      <td>52618.500000</td>\n",
       "    </tr>\n",
       "    <tr>\n",
       "      <th>50%</th>\n",
       "      <td>7.000000</td>\n",
       "      <td>36976.000000</td>\n",
       "      <td>120021.000000</td>\n",
       "    </tr>\n",
       "    <tr>\n",
       "      <th>75%</th>\n",
       "      <td>17.500000</td>\n",
       "      <td>113421.000000</td>\n",
       "      <td>504687.000000</td>\n",
       "    </tr>\n",
       "    <tr>\n",
       "      <th>max</th>\n",
       "      <td>31.000000</td>\n",
       "      <td>203438.000000</td>\n",
       "      <td>931646.000000</td>\n",
       "    </tr>\n",
       "  </tbody>\n",
       "</table>\n",
       "</div>"
      ],
      "text/plain": [
       "       Municipios           Area      Poblacion\n",
       "count    7.000000       7.000000       7.000000\n",
       "mean    12.571429   70954.285714  311100.142857\n",
       "std     10.179344   79156.567979  401015.568941\n",
       "min      3.000000     888.000000   11423.000000\n",
       "25%      6.000000   14268.000000   52618.500000\n",
       "50%      7.000000   36976.000000  120021.000000\n",
       "75%     17.500000  113421.000000  504687.000000\n",
       "max     31.000000  203438.000000  931646.000000"
      ]
     },
     "execution_count": 41,
     "metadata": {},
     "output_type": "execute_result"
    }
   ],
   "source": [
    "df.describe()"
   ]
  },
  {
   "cell_type": "code",
   "execution_count": 42,
   "metadata": {},
   "outputs": [
    {
     "name": "stdout",
     "output_type": "stream",
     "text": [
      "<class 'pandas.core.frame.DataFrame'>\n",
      "RangeIndex: 7 entries, 0 to 6\n",
      "Data columns (total 5 columns):\n",
      " #   Column      Non-Null Count  Dtype  \n",
      "---  ------      --------------  -----  \n",
      " 0   Isla        7 non-null      object \n",
      " 1   Municipios  7 non-null      int64  \n",
      " 2   Capital     7 non-null      object \n",
      " 3   Area        7 non-null      float64\n",
      " 4   Poblacion   7 non-null      float64\n",
      "dtypes: float64(2), int64(1), object(2)\n",
      "memory usage: 408.0+ bytes\n"
     ]
    }
   ],
   "source": [
    "df.info()"
   ]
  },
  {
   "cell_type": "markdown",
   "metadata": {},
   "source": [
    "> Para clasificar la información por la **columna** que se desee"
   ]
  },
  {
   "cell_type": "code",
   "execution_count": 46,
   "metadata": {},
   "outputs": [
    {
     "data": {
      "text/html": [
       "<div>\n",
       "<style scoped>\n",
       "    .dataframe tbody tr th:only-of-type {\n",
       "        vertical-align: middle;\n",
       "    }\n",
       "\n",
       "    .dataframe tbody tr th {\n",
       "        vertical-align: top;\n",
       "    }\n",
       "\n",
       "    .dataframe thead th {\n",
       "        text-align: right;\n",
       "    }\n",
       "</style>\n",
       "<table border=\"1\" class=\"dataframe\">\n",
       "  <thead>\n",
       "    <tr style=\"text-align: right;\">\n",
       "      <th></th>\n",
       "      <th>Isla</th>\n",
       "      <th>Municipios</th>\n",
       "      <th>Area</th>\n",
       "      <th>Poblacion</th>\n",
       "    </tr>\n",
       "    <tr>\n",
       "      <th>Capital</th>\n",
       "      <th></th>\n",
       "      <th></th>\n",
       "      <th></th>\n",
       "      <th></th>\n",
       "    </tr>\n",
       "  </thead>\n",
       "  <tbody>\n",
       "    <tr>\n",
       "      <th>Valverde</th>\n",
       "      <td>El Hierro</td>\n",
       "      <td>3</td>\n",
       "      <td>26871.0</td>\n",
       "      <td>11423.0</td>\n",
       "    </tr>\n",
       "    <tr>\n",
       "      <th>Puerto del Rosario</th>\n",
       "      <td>Fuerteventura</td>\n",
       "      <td>6</td>\n",
       "      <td>1665.0</td>\n",
       "      <td>120021.0</td>\n",
       "    </tr>\n",
       "    <tr>\n",
       "      <th>Las Palmas de Gran Canaria</th>\n",
       "      <td>Gran Canaria</td>\n",
       "      <td>21</td>\n",
       "      <td>156010.0</td>\n",
       "      <td>853262.0</td>\n",
       "    </tr>\n",
       "    <tr>\n",
       "      <th>San Sebastián de La Gomera</th>\n",
       "      <td>La Gomera</td>\n",
       "      <td>6</td>\n",
       "      <td>36976.0</td>\n",
       "      <td>21798.0</td>\n",
       "    </tr>\n",
       "    <tr>\n",
       "      <th>Arrecife</th>\n",
       "      <td>Lanzarote</td>\n",
       "      <td>7</td>\n",
       "      <td>888.0</td>\n",
       "      <td>156112.0</td>\n",
       "    </tr>\n",
       "    <tr>\n",
       "      <th>Santa Cruz de La Palma</th>\n",
       "      <td>La Palma</td>\n",
       "      <td>14</td>\n",
       "      <td>70832.0</td>\n",
       "      <td>83439.0</td>\n",
       "    </tr>\n",
       "    <tr>\n",
       "      <th>Santa Cruz de Tenerife</th>\n",
       "      <td>Tenerife</td>\n",
       "      <td>31</td>\n",
       "      <td>203438.0</td>\n",
       "      <td>931646.0</td>\n",
       "    </tr>\n",
       "  </tbody>\n",
       "</table>\n",
       "</div>"
      ],
      "text/plain": [
       "                                     Isla  Municipios      Area  Poblacion\n",
       "Capital                                                                   \n",
       "Valverde                        El Hierro           3   26871.0    11423.0\n",
       "Puerto del Rosario          Fuerteventura           6    1665.0   120021.0\n",
       "Las Palmas de Gran Canaria   Gran Canaria          21  156010.0   853262.0\n",
       "San Sebastián de La Gomera      La Gomera           6   36976.0    21798.0\n",
       "Arrecife                        Lanzarote           7     888.0   156112.0\n",
       "Santa Cruz de La Palma           La Palma          14   70832.0    83439.0\n",
       "Santa Cruz de Tenerife           Tenerife          31  203438.0   931646.0"
      ]
     },
     "execution_count": 46,
     "metadata": {},
     "output_type": "execute_result"
    }
   ],
   "source": [
    "df2 = df.set_index(\"Capital\")\n",
    "df2"
   ]
  },
  {
   "cell_type": "markdown",
   "metadata": {},
   "source": [
    "> Para volver a utilizar el índice necesitamos resetear el index:"
   ]
  },
  {
   "cell_type": "code",
   "execution_count": 48,
   "metadata": {},
   "outputs": [
    {
     "data": {
      "text/html": [
       "<div>\n",
       "<style scoped>\n",
       "    .dataframe tbody tr th:only-of-type {\n",
       "        vertical-align: middle;\n",
       "    }\n",
       "\n",
       "    .dataframe tbody tr th {\n",
       "        vertical-align: top;\n",
       "    }\n",
       "\n",
       "    .dataframe thead th {\n",
       "        text-align: right;\n",
       "    }\n",
       "</style>\n",
       "<table border=\"1\" class=\"dataframe\">\n",
       "  <thead>\n",
       "    <tr style=\"text-align: right;\">\n",
       "      <th></th>\n",
       "      <th>Capital</th>\n",
       "      <th>Isla</th>\n",
       "      <th>Municipios</th>\n",
       "      <th>Area</th>\n",
       "      <th>Poblacion</th>\n",
       "    </tr>\n",
       "  </thead>\n",
       "  <tbody>\n",
       "    <tr>\n",
       "      <th>0</th>\n",
       "      <td>Valverde</td>\n",
       "      <td>El Hierro</td>\n",
       "      <td>3</td>\n",
       "      <td>26871.0</td>\n",
       "      <td>11423.0</td>\n",
       "    </tr>\n",
       "    <tr>\n",
       "      <th>1</th>\n",
       "      <td>Puerto del Rosario</td>\n",
       "      <td>Fuerteventura</td>\n",
       "      <td>6</td>\n",
       "      <td>1665.0</td>\n",
       "      <td>120021.0</td>\n",
       "    </tr>\n",
       "    <tr>\n",
       "      <th>2</th>\n",
       "      <td>Las Palmas de Gran Canaria</td>\n",
       "      <td>Gran Canaria</td>\n",
       "      <td>21</td>\n",
       "      <td>156010.0</td>\n",
       "      <td>853262.0</td>\n",
       "    </tr>\n",
       "    <tr>\n",
       "      <th>3</th>\n",
       "      <td>San Sebastián de La Gomera</td>\n",
       "      <td>La Gomera</td>\n",
       "      <td>6</td>\n",
       "      <td>36976.0</td>\n",
       "      <td>21798.0</td>\n",
       "    </tr>\n",
       "    <tr>\n",
       "      <th>4</th>\n",
       "      <td>Arrecife</td>\n",
       "      <td>Lanzarote</td>\n",
       "      <td>7</td>\n",
       "      <td>888.0</td>\n",
       "      <td>156112.0</td>\n",
       "    </tr>\n",
       "    <tr>\n",
       "      <th>5</th>\n",
       "      <td>Santa Cruz de La Palma</td>\n",
       "      <td>La Palma</td>\n",
       "      <td>14</td>\n",
       "      <td>70832.0</td>\n",
       "      <td>83439.0</td>\n",
       "    </tr>\n",
       "    <tr>\n",
       "      <th>6</th>\n",
       "      <td>Santa Cruz de Tenerife</td>\n",
       "      <td>Tenerife</td>\n",
       "      <td>31</td>\n",
       "      <td>203438.0</td>\n",
       "      <td>931646.0</td>\n",
       "    </tr>\n",
       "  </tbody>\n",
       "</table>\n",
       "</div>"
      ],
      "text/plain": [
       "                      Capital           Isla  Municipios      Area  Poblacion\n",
       "0                    Valverde      El Hierro           3   26871.0    11423.0\n",
       "1          Puerto del Rosario  Fuerteventura           6    1665.0   120021.0\n",
       "2  Las Palmas de Gran Canaria   Gran Canaria          21  156010.0   853262.0\n",
       "3  San Sebastián de La Gomera      La Gomera           6   36976.0    21798.0\n",
       "4                    Arrecife      Lanzarote           7     888.0   156112.0\n",
       "5      Santa Cruz de La Palma       La Palma          14   70832.0    83439.0\n",
       "6      Santa Cruz de Tenerife       Tenerife          31  203438.0   931646.0"
      ]
     },
     "execution_count": 48,
     "metadata": {},
     "output_type": "execute_result"
    }
   ],
   "source": [
    "df2 = df2.reset_index()\n",
    "df2"
   ]
  },
  {
   "cell_type": "markdown",
   "metadata": {},
   "source": [
    "> Para mostrar la **fila entera** se utiliza el **loc** "
   ]
  },
  {
   "cell_type": "code",
   "execution_count": 47,
   "metadata": {},
   "outputs": [
    {
     "data": {
      "text/plain": [
       "Isla          Lanzarote\n",
       "Municipios            7\n",
       "Area              888.0\n",
       "Poblacion      156112.0\n",
       "Name: Arrecife, dtype: object"
      ]
     },
     "execution_count": 47,
     "metadata": {},
     "output_type": "execute_result"
    }
   ],
   "source": [
    "df2.loc[\"Arrecife\"]"
   ]
  },
  {
   "cell_type": "markdown",
   "metadata": {},
   "source": [
    "> Para consultar según la **posición** de la celda"
   ]
  },
  {
   "cell_type": "code",
   "execution_count": 49,
   "metadata": {},
   "outputs": [
    {
     "data": {
      "text/plain": [
       "'Valverde'"
      ]
     },
     "execution_count": 49,
     "metadata": {},
     "output_type": "execute_result"
    }
   ],
   "source": [
    "df2.iloc[0,0]"
   ]
  },
  {
   "cell_type": "markdown",
   "metadata": {},
   "source": [
    "> Para elegir una información en específico se utilizar el **iloc**:"
   ]
  },
  {
   "cell_type": "code",
   "execution_count": 50,
   "metadata": {},
   "outputs": [
    {
     "data": {
      "text/html": [
       "<div>\n",
       "<style scoped>\n",
       "    .dataframe tbody tr th:only-of-type {\n",
       "        vertical-align: middle;\n",
       "    }\n",
       "\n",
       "    .dataframe tbody tr th {\n",
       "        vertical-align: top;\n",
       "    }\n",
       "\n",
       "    .dataframe thead th {\n",
       "        text-align: right;\n",
       "    }\n",
       "</style>\n",
       "<table border=\"1\" class=\"dataframe\">\n",
       "  <thead>\n",
       "    <tr style=\"text-align: right;\">\n",
       "      <th></th>\n",
       "      <th>Municipios</th>\n",
       "      <th>Area</th>\n",
       "      <th>Poblacion</th>\n",
       "    </tr>\n",
       "  </thead>\n",
       "  <tbody>\n",
       "    <tr>\n",
       "      <th>1</th>\n",
       "      <td>6</td>\n",
       "      <td>1665.0</td>\n",
       "      <td>120021.0</td>\n",
       "    </tr>\n",
       "    <tr>\n",
       "      <th>2</th>\n",
       "      <td>21</td>\n",
       "      <td>156010.0</td>\n",
       "      <td>853262.0</td>\n",
       "    </tr>\n",
       "  </tbody>\n",
       "</table>\n",
       "</div>"
      ],
      "text/plain": [
       "   Municipios      Area  Poblacion\n",
       "1           6    1665.0   120021.0\n",
       "2          21  156010.0   853262.0"
      ]
     },
     "execution_count": 50,
     "metadata": {},
     "output_type": "execute_result"
    }
   ],
   "source": [
    "df2.iloc[1:3, 2:5]"
   ]
  },
  {
   "cell_type": "code",
   "execution_count": 51,
   "metadata": {},
   "outputs": [
    {
     "data": {
      "text/plain": [
       "0    False\n",
       "1    False\n",
       "2     True\n",
       "3    False\n",
       "4    False\n",
       "5     True\n",
       "6     True\n",
       "Name: Municipios, dtype: bool"
      ]
     },
     "execution_count": 51,
     "metadata": {},
     "output_type": "execute_result"
    }
   ],
   "source": [
    "df[\"Municipios\"] > 7"
   ]
  },
  {
   "cell_type": "code",
   "execution_count": 57,
   "metadata": {},
   "outputs": [
    {
     "data": {
      "text/html": [
       "<div>\n",
       "<style scoped>\n",
       "    .dataframe tbody tr th:only-of-type {\n",
       "        vertical-align: middle;\n",
       "    }\n",
       "\n",
       "    .dataframe tbody tr th {\n",
       "        vertical-align: top;\n",
       "    }\n",
       "\n",
       "    .dataframe thead th {\n",
       "        text-align: right;\n",
       "    }\n",
       "</style>\n",
       "<table border=\"1\" class=\"dataframe\">\n",
       "  <thead>\n",
       "    <tr style=\"text-align: right;\">\n",
       "      <th></th>\n",
       "      <th>Isla</th>\n",
       "      <th>Municipios</th>\n",
       "      <th>Capital</th>\n",
       "      <th>Area</th>\n",
       "      <th>Poblacion</th>\n",
       "      <th>Densidad</th>\n",
       "      <th>Provincia</th>\n",
       "    </tr>\n",
       "  </thead>\n",
       "  <tbody>\n",
       "    <tr>\n",
       "      <th>5</th>\n",
       "      <td>La Palma</td>\n",
       "      <td>14</td>\n",
       "      <td>Santa Cruz de La Palma</td>\n",
       "      <td>70832.0</td>\n",
       "      <td>83439.0</td>\n",
       "      <td>1.177985</td>\n",
       "      <td>LPGC</td>\n",
       "    </tr>\n",
       "  </tbody>\n",
       "</table>\n",
       "</div>"
      ],
      "text/plain": [
       "       Isla  Municipios                 Capital     Area  Poblacion  Densidad  \\\n",
       "5  La Palma          14  Santa Cruz de La Palma  70832.0    83439.0  1.177985   \n",
       "\n",
       "  Provincia  \n",
       "5      LPGC  "
      ]
     },
     "execution_count": 57,
     "metadata": {},
     "output_type": "execute_result"
    }
   ],
   "source": [
    "df[(df[\"Municipios\"] > 7) & (df[\"Area\"] < 100000)]"
   ]
  },
  {
   "cell_type": "markdown",
   "metadata": {},
   "source": [
    "> Para añadir columnas es fácil, se refiere en la indexación a una columna no existente:"
   ]
  },
  {
   "cell_type": "code",
   "execution_count": 53,
   "metadata": {},
   "outputs": [
    {
     "data": {
      "text/html": [
       "<div>\n",
       "<style scoped>\n",
       "    .dataframe tbody tr th:only-of-type {\n",
       "        vertical-align: middle;\n",
       "    }\n",
       "\n",
       "    .dataframe tbody tr th {\n",
       "        vertical-align: top;\n",
       "    }\n",
       "\n",
       "    .dataframe thead th {\n",
       "        text-align: right;\n",
       "    }\n",
       "</style>\n",
       "<table border=\"1\" class=\"dataframe\">\n",
       "  <thead>\n",
       "    <tr style=\"text-align: right;\">\n",
       "      <th></th>\n",
       "      <th>Isla</th>\n",
       "      <th>Municipios</th>\n",
       "      <th>Capital</th>\n",
       "      <th>Area</th>\n",
       "      <th>Poblacion</th>\n",
       "      <th>Densidad</th>\n",
       "      <th>Provincia</th>\n",
       "    </tr>\n",
       "  </thead>\n",
       "  <tbody>\n",
       "    <tr>\n",
       "      <th>0</th>\n",
       "      <td>El Hierro</td>\n",
       "      <td>3</td>\n",
       "      <td>Valverde</td>\n",
       "      <td>26871.0</td>\n",
       "      <td>11423.0</td>\n",
       "      <td>0.425105</td>\n",
       "      <td>LPGC</td>\n",
       "    </tr>\n",
       "    <tr>\n",
       "      <th>1</th>\n",
       "      <td>Fuerteventura</td>\n",
       "      <td>6</td>\n",
       "      <td>Puerto del Rosario</td>\n",
       "      <td>1665.0</td>\n",
       "      <td>120021.0</td>\n",
       "      <td>72.084685</td>\n",
       "      <td>SCTF</td>\n",
       "    </tr>\n",
       "    <tr>\n",
       "      <th>2</th>\n",
       "      <td>Gran Canaria</td>\n",
       "      <td>21</td>\n",
       "      <td>Las Palmas de Gran Canaria</td>\n",
       "      <td>156010.0</td>\n",
       "      <td>853262.0</td>\n",
       "      <td>5.469278</td>\n",
       "      <td>SCTF</td>\n",
       "    </tr>\n",
       "    <tr>\n",
       "      <th>3</th>\n",
       "      <td>La Gomera</td>\n",
       "      <td>6</td>\n",
       "      <td>San Sebastián de La Gomera</td>\n",
       "      <td>36976.0</td>\n",
       "      <td>21798.0</td>\n",
       "      <td>0.589518</td>\n",
       "      <td>LPGC</td>\n",
       "    </tr>\n",
       "    <tr>\n",
       "      <th>4</th>\n",
       "      <td>Lanzarote</td>\n",
       "      <td>7</td>\n",
       "      <td>Arrecife</td>\n",
       "      <td>888.0</td>\n",
       "      <td>156112.0</td>\n",
       "      <td>175.801802</td>\n",
       "      <td>SCTF</td>\n",
       "    </tr>\n",
       "    <tr>\n",
       "      <th>5</th>\n",
       "      <td>La Palma</td>\n",
       "      <td>14</td>\n",
       "      <td>Santa Cruz de La Palma</td>\n",
       "      <td>70832.0</td>\n",
       "      <td>83439.0</td>\n",
       "      <td>1.177985</td>\n",
       "      <td>LPGC</td>\n",
       "    </tr>\n",
       "    <tr>\n",
       "      <th>6</th>\n",
       "      <td>Tenerife</td>\n",
       "      <td>31</td>\n",
       "      <td>Santa Cruz de Tenerife</td>\n",
       "      <td>203438.0</td>\n",
       "      <td>931646.0</td>\n",
       "      <td>4.579508</td>\n",
       "      <td>SCTF</td>\n",
       "    </tr>\n",
       "  </tbody>\n",
       "</table>\n",
       "</div>"
      ],
      "text/plain": [
       "            Isla  Municipios                     Capital      Area  Poblacion  \\\n",
       "0      El Hierro           3                    Valverde   26871.0    11423.0   \n",
       "1  Fuerteventura           6          Puerto del Rosario    1665.0   120021.0   \n",
       "2   Gran Canaria          21  Las Palmas de Gran Canaria  156010.0   853262.0   \n",
       "3      La Gomera           6  San Sebastián de La Gomera   36976.0    21798.0   \n",
       "4      Lanzarote           7                    Arrecife     888.0   156112.0   \n",
       "5       La Palma          14      Santa Cruz de La Palma   70832.0    83439.0   \n",
       "6       Tenerife          31      Santa Cruz de Tenerife  203438.0   931646.0   \n",
       "\n",
       "     Densidad Provincia  \n",
       "0    0.425105      LPGC  \n",
       "1   72.084685      SCTF  \n",
       "2    5.469278      SCTF  \n",
       "3    0.589518      LPGC  \n",
       "4  175.801802      SCTF  \n",
       "5    1.177985      LPGC  \n",
       "6    4.579508      SCTF  "
      ]
     },
     "execution_count": 53,
     "metadata": {},
     "output_type": "execute_result"
    }
   ],
   "source": [
    "df[\"Densidad\"] = df[\"Poblacion\"] / df[\"Area\"]\n",
    "df[\"Provincia\"] =  [\"LPGC\",\"SCTF\", \"SCTF\", \"LPGC\",\"SCTF\", \"LPGC\", \"SCTF\" ]\n",
    "df  # En este caso 'Densidad' y 'Provincia' son las nuevas columnas"
   ]
  },
  {
   "cell_type": "markdown",
   "metadata": {},
   "source": [
    "> Para **añadir filas**:"
   ]
  },
  {
   "cell_type": "code",
   "execution_count": 54,
   "metadata": {},
   "outputs": [
    {
     "data": {
      "text/html": [
       "<div>\n",
       "<style scoped>\n",
       "    .dataframe tbody tr th:only-of-type {\n",
       "        vertical-align: middle;\n",
       "    }\n",
       "\n",
       "    .dataframe tbody tr th {\n",
       "        vertical-align: top;\n",
       "    }\n",
       "\n",
       "    .dataframe thead th {\n",
       "        text-align: right;\n",
       "    }\n",
       "</style>\n",
       "<table border=\"1\" class=\"dataframe\">\n",
       "  <thead>\n",
       "    <tr style=\"text-align: right;\">\n",
       "      <th></th>\n",
       "      <th>Isla</th>\n",
       "      <th>Municipios</th>\n",
       "      <th>Capital</th>\n",
       "      <th>Area</th>\n",
       "      <th>Poblacion</th>\n",
       "      <th>Densidad</th>\n",
       "      <th>Provincia</th>\n",
       "    </tr>\n",
       "  </thead>\n",
       "  <tbody>\n",
       "    <tr>\n",
       "      <th>0</th>\n",
       "      <td>El Hierro</td>\n",
       "      <td>3</td>\n",
       "      <td>Valverde</td>\n",
       "      <td>26871.0</td>\n",
       "      <td>11423.0</td>\n",
       "      <td>0.425105</td>\n",
       "      <td>LPGC</td>\n",
       "    </tr>\n",
       "    <tr>\n",
       "      <th>1</th>\n",
       "      <td>Fuerteventura</td>\n",
       "      <td>6</td>\n",
       "      <td>Puerto del Rosario</td>\n",
       "      <td>1665.0</td>\n",
       "      <td>120021.0</td>\n",
       "      <td>72.084685</td>\n",
       "      <td>SCTF</td>\n",
       "    </tr>\n",
       "    <tr>\n",
       "      <th>2</th>\n",
       "      <td>Gran Canaria</td>\n",
       "      <td>21</td>\n",
       "      <td>Las Palmas de Gran Canaria</td>\n",
       "      <td>156010.0</td>\n",
       "      <td>853262.0</td>\n",
       "      <td>5.469278</td>\n",
       "      <td>SCTF</td>\n",
       "    </tr>\n",
       "    <tr>\n",
       "      <th>3</th>\n",
       "      <td>La Gomera</td>\n",
       "      <td>6</td>\n",
       "      <td>San Sebastián de La Gomera</td>\n",
       "      <td>36976.0</td>\n",
       "      <td>21798.0</td>\n",
       "      <td>0.589518</td>\n",
       "      <td>LPGC</td>\n",
       "    </tr>\n",
       "    <tr>\n",
       "      <th>4</th>\n",
       "      <td>Lanzarote</td>\n",
       "      <td>7</td>\n",
       "      <td>Arrecife</td>\n",
       "      <td>888.0</td>\n",
       "      <td>156112.0</td>\n",
       "      <td>175.801802</td>\n",
       "      <td>SCTF</td>\n",
       "    </tr>\n",
       "    <tr>\n",
       "      <th>5</th>\n",
       "      <td>La Palma</td>\n",
       "      <td>14</td>\n",
       "      <td>Santa Cruz de La Palma</td>\n",
       "      <td>70832.0</td>\n",
       "      <td>83439.0</td>\n",
       "      <td>1.177985</td>\n",
       "      <td>LPGC</td>\n",
       "    </tr>\n",
       "    <tr>\n",
       "      <th>6</th>\n",
       "      <td>Tenerife</td>\n",
       "      <td>31</td>\n",
       "      <td>Santa Cruz de Tenerife</td>\n",
       "      <td>203438.0</td>\n",
       "      <td>931646.0</td>\n",
       "      <td>4.579508</td>\n",
       "      <td>SCTF</td>\n",
       "    </tr>\n",
       "    <tr>\n",
       "      <th>7</th>\n",
       "      <td>Isla Nueva</td>\n",
       "      <td>1</td>\n",
       "      <td>Nueva York</td>\n",
       "      <td>1000.0</td>\n",
       "      <td>200.0</td>\n",
       "      <td>NNN</td>\n",
       "      <td>1</td>\n",
       "    </tr>\n",
       "  </tbody>\n",
       "</table>\n",
       "</div>"
      ],
      "text/plain": [
       "            Isla  Municipios                     Capital      Area  Poblacion  \\\n",
       "0      El Hierro           3                    Valverde   26871.0    11423.0   \n",
       "1  Fuerteventura           6          Puerto del Rosario    1665.0   120021.0   \n",
       "2   Gran Canaria          21  Las Palmas de Gran Canaria  156010.0   853262.0   \n",
       "3      La Gomera           6  San Sebastián de La Gomera   36976.0    21798.0   \n",
       "4      Lanzarote           7                    Arrecife     888.0   156112.0   \n",
       "5       La Palma          14      Santa Cruz de La Palma   70832.0    83439.0   \n",
       "6       Tenerife          31      Santa Cruz de Tenerife  203438.0   931646.0   \n",
       "7     Isla Nueva           1                  Nueva York    1000.0      200.0   \n",
       "\n",
       "     Densidad Provincia  \n",
       "0    0.425105      LPGC  \n",
       "1   72.084685      SCTF  \n",
       "2    5.469278      SCTF  \n",
       "3    0.589518      LPGC  \n",
       "4  175.801802      SCTF  \n",
       "5    1.177985      LPGC  \n",
       "6    4.579508      SCTF  \n",
       "7         NNN         1  "
      ]
     },
     "execution_count": 54,
     "metadata": {},
     "output_type": "execute_result"
    }
   ],
   "source": [
    "df.loc[len(df.index)] = [\"Isla Nueva\", 1, \"Nueva York\", 1000, 200, \"NNN\", 1]\n",
    "df"
   ]
  },
  {
   "cell_type": "markdown",
   "metadata": {},
   "source": [
    "> Para trabajar con las **fechas**:"
   ]
  },
  {
   "cell_type": "code",
   "execution_count": 82,
   "metadata": {},
   "outputs": [
    {
     "data": {
      "text/html": [
       "<div>\n",
       "<style scoped>\n",
       "    .dataframe tbody tr th:only-of-type {\n",
       "        vertical-align: middle;\n",
       "    }\n",
       "\n",
       "    .dataframe tbody tr th {\n",
       "        vertical-align: top;\n",
       "    }\n",
       "\n",
       "    .dataframe thead th {\n",
       "        text-align: right;\n",
       "    }\n",
       "</style>\n",
       "<table border=\"1\" class=\"dataframe\">\n",
       "  <thead>\n",
       "    <tr style=\"text-align: right;\">\n",
       "      <th></th>\n",
       "      <th>Capital</th>\n",
       "      <th>Isla</th>\n",
       "      <th>Municipios</th>\n",
       "      <th>Area</th>\n",
       "      <th>Poblacion</th>\n",
       "      <th>año</th>\n",
       "      <th>mes</th>\n",
       "      <th>dia</th>\n",
       "      <th>Fvisita</th>\n",
       "    </tr>\n",
       "    <tr>\n",
       "      <th>Fvisita</th>\n",
       "      <th></th>\n",
       "      <th></th>\n",
       "      <th></th>\n",
       "      <th></th>\n",
       "      <th></th>\n",
       "      <th></th>\n",
       "      <th></th>\n",
       "      <th></th>\n",
       "      <th></th>\n",
       "    </tr>\n",
       "  </thead>\n",
       "  <tbody>\n",
       "    <tr>\n",
       "      <th>2023-01-12</th>\n",
       "      <td>Valverde</td>\n",
       "      <td>El Hierro</td>\n",
       "      <td>3</td>\n",
       "      <td>26871.0</td>\n",
       "      <td>11423.0</td>\n",
       "      <td>2023</td>\n",
       "      <td>1</td>\n",
       "      <td>12</td>\n",
       "      <td>1/12/2023</td>\n",
       "    </tr>\n",
       "    <tr>\n",
       "      <th>2023-10-01</th>\n",
       "      <td>Puerto del Rosario</td>\n",
       "      <td>Fuerteventura</td>\n",
       "      <td>6</td>\n",
       "      <td>1665.0</td>\n",
       "      <td>120021.0</td>\n",
       "      <td>2023</td>\n",
       "      <td>10</td>\n",
       "      <td>1</td>\n",
       "      <td>10/1/2023</td>\n",
       "    </tr>\n",
       "    <tr>\n",
       "      <th>2023-01-01</th>\n",
       "      <td>Las Palmas de Gran Canaria</td>\n",
       "      <td>Gran Canaria</td>\n",
       "      <td>21</td>\n",
       "      <td>156010.0</td>\n",
       "      <td>853262.0</td>\n",
       "      <td>2023</td>\n",
       "      <td>1</td>\n",
       "      <td>1</td>\n",
       "      <td>1/1/2023</td>\n",
       "    </tr>\n",
       "    <tr>\n",
       "      <th>2023-11-01</th>\n",
       "      <td>San Sebastián de La Gomera</td>\n",
       "      <td>La Gomera</td>\n",
       "      <td>6</td>\n",
       "      <td>36976.0</td>\n",
       "      <td>21798.0</td>\n",
       "      <td>2023</td>\n",
       "      <td>11</td>\n",
       "      <td>1</td>\n",
       "      <td>11/1/2023</td>\n",
       "    </tr>\n",
       "    <tr>\n",
       "      <th>2023-01-11</th>\n",
       "      <td>Arrecife</td>\n",
       "      <td>Lanzarote</td>\n",
       "      <td>7</td>\n",
       "      <td>888.0</td>\n",
       "      <td>156112.0</td>\n",
       "      <td>2023</td>\n",
       "      <td>1</td>\n",
       "      <td>11</td>\n",
       "      <td>1/11/2023</td>\n",
       "    </tr>\n",
       "    <tr>\n",
       "      <th>2023-11-11</th>\n",
       "      <td>Santa Cruz de La Palma</td>\n",
       "      <td>La Palma</td>\n",
       "      <td>14</td>\n",
       "      <td>70832.0</td>\n",
       "      <td>83439.0</td>\n",
       "      <td>2023</td>\n",
       "      <td>11</td>\n",
       "      <td>11</td>\n",
       "      <td>11/11/2023</td>\n",
       "    </tr>\n",
       "    <tr>\n",
       "      <th>2023-10-10</th>\n",
       "      <td>Santa Cruz de Tenerife</td>\n",
       "      <td>Tenerife</td>\n",
       "      <td>31</td>\n",
       "      <td>203438.0</td>\n",
       "      <td>931646.0</td>\n",
       "      <td>2023</td>\n",
       "      <td>10</td>\n",
       "      <td>10</td>\n",
       "      <td>10/10/2023</td>\n",
       "    </tr>\n",
       "  </tbody>\n",
       "</table>\n",
       "</div>"
      ],
      "text/plain": [
       "                               Capital           Isla  Municipios      Area  \\\n",
       "Fvisita                                                                       \n",
       "2023-01-12                    Valverde      El Hierro           3   26871.0   \n",
       "2023-10-01          Puerto del Rosario  Fuerteventura           6    1665.0   \n",
       "2023-01-01  Las Palmas de Gran Canaria   Gran Canaria          21  156010.0   \n",
       "2023-11-01  San Sebastián de La Gomera      La Gomera           6   36976.0   \n",
       "2023-01-11                    Arrecife      Lanzarote           7     888.0   \n",
       "2023-11-11      Santa Cruz de La Palma       La Palma          14   70832.0   \n",
       "2023-10-10      Santa Cruz de Tenerife       Tenerife          31  203438.0   \n",
       "\n",
       "            Poblacion   año  mes  dia     Fvisita  \n",
       "Fvisita                                            \n",
       "2023-01-12    11423.0  2023    1   12   1/12/2023  \n",
       "2023-10-01   120021.0  2023   10    1   10/1/2023  \n",
       "2023-01-01   853262.0  2023    1    1    1/1/2023  \n",
       "2023-11-01    21798.0  2023   11    1   11/1/2023  \n",
       "2023-01-11   156112.0  2023    1   11   1/11/2023  \n",
       "2023-11-11    83439.0  2023   11   11  11/11/2023  \n",
       "2023-10-10   931646.0  2023   10   10  10/10/2023  "
      ]
     },
     "execution_count": 82,
     "metadata": {},
     "output_type": "execute_result"
    }
   ],
   "source": [
    "df2[\"Fvisita\"] = [\"1/12/2023\", \"10/1/2023\", \"1/1/2023\", \"11/1/2023\", \"1/11/2023\", \"11/11/2023\", \"10/10/2023\"]\n",
    "df2"
   ]
  },
  {
   "cell_type": "code",
   "execution_count": 84,
   "metadata": {},
   "outputs": [
    {
     "data": {
      "text/html": [
       "<div>\n",
       "<style scoped>\n",
       "    .dataframe tbody tr th:only-of-type {\n",
       "        vertical-align: middle;\n",
       "    }\n",
       "\n",
       "    .dataframe tbody tr th {\n",
       "        vertical-align: top;\n",
       "    }\n",
       "\n",
       "    .dataframe thead th {\n",
       "        text-align: right;\n",
       "    }\n",
       "</style>\n",
       "<table border=\"1\" class=\"dataframe\">\n",
       "  <thead>\n",
       "    <tr style=\"text-align: right;\">\n",
       "      <th></th>\n",
       "      <th>Capital</th>\n",
       "      <th>Isla</th>\n",
       "      <th>Municipios</th>\n",
       "      <th>Area</th>\n",
       "      <th>Poblacion</th>\n",
       "      <th>año</th>\n",
       "      <th>mes</th>\n",
       "      <th>dia</th>\n",
       "      <th>Fvisita</th>\n",
       "    </tr>\n",
       "    <tr>\n",
       "      <th>Fvisita</th>\n",
       "      <th></th>\n",
       "      <th></th>\n",
       "      <th></th>\n",
       "      <th></th>\n",
       "      <th></th>\n",
       "      <th></th>\n",
       "      <th></th>\n",
       "      <th></th>\n",
       "      <th></th>\n",
       "    </tr>\n",
       "  </thead>\n",
       "  <tbody>\n",
       "    <tr>\n",
       "      <th>2023-01-12</th>\n",
       "      <td>Valverde</td>\n",
       "      <td>El Hierro</td>\n",
       "      <td>3</td>\n",
       "      <td>26871.0</td>\n",
       "      <td>11423.0</td>\n",
       "      <td>2023</td>\n",
       "      <td>1</td>\n",
       "      <td>12</td>\n",
       "      <td>2023-01-12</td>\n",
       "    </tr>\n",
       "    <tr>\n",
       "      <th>2023-10-01</th>\n",
       "      <td>Puerto del Rosario</td>\n",
       "      <td>Fuerteventura</td>\n",
       "      <td>6</td>\n",
       "      <td>1665.0</td>\n",
       "      <td>120021.0</td>\n",
       "      <td>2023</td>\n",
       "      <td>10</td>\n",
       "      <td>1</td>\n",
       "      <td>2023-10-01</td>\n",
       "    </tr>\n",
       "    <tr>\n",
       "      <th>2023-01-01</th>\n",
       "      <td>Las Palmas de Gran Canaria</td>\n",
       "      <td>Gran Canaria</td>\n",
       "      <td>21</td>\n",
       "      <td>156010.0</td>\n",
       "      <td>853262.0</td>\n",
       "      <td>2023</td>\n",
       "      <td>1</td>\n",
       "      <td>1</td>\n",
       "      <td>2023-01-01</td>\n",
       "    </tr>\n",
       "    <tr>\n",
       "      <th>2023-11-01</th>\n",
       "      <td>San Sebastián de La Gomera</td>\n",
       "      <td>La Gomera</td>\n",
       "      <td>6</td>\n",
       "      <td>36976.0</td>\n",
       "      <td>21798.0</td>\n",
       "      <td>2023</td>\n",
       "      <td>11</td>\n",
       "      <td>1</td>\n",
       "      <td>2023-11-01</td>\n",
       "    </tr>\n",
       "    <tr>\n",
       "      <th>2023-01-11</th>\n",
       "      <td>Arrecife</td>\n",
       "      <td>Lanzarote</td>\n",
       "      <td>7</td>\n",
       "      <td>888.0</td>\n",
       "      <td>156112.0</td>\n",
       "      <td>2023</td>\n",
       "      <td>1</td>\n",
       "      <td>11</td>\n",
       "      <td>2023-01-11</td>\n",
       "    </tr>\n",
       "    <tr>\n",
       "      <th>2023-11-11</th>\n",
       "      <td>Santa Cruz de La Palma</td>\n",
       "      <td>La Palma</td>\n",
       "      <td>14</td>\n",
       "      <td>70832.0</td>\n",
       "      <td>83439.0</td>\n",
       "      <td>2023</td>\n",
       "      <td>11</td>\n",
       "      <td>11</td>\n",
       "      <td>2023-11-11</td>\n",
       "    </tr>\n",
       "    <tr>\n",
       "      <th>2023-10-10</th>\n",
       "      <td>Santa Cruz de Tenerife</td>\n",
       "      <td>Tenerife</td>\n",
       "      <td>31</td>\n",
       "      <td>203438.0</td>\n",
       "      <td>931646.0</td>\n",
       "      <td>2023</td>\n",
       "      <td>10</td>\n",
       "      <td>10</td>\n",
       "      <td>2023-10-10</td>\n",
       "    </tr>\n",
       "  </tbody>\n",
       "</table>\n",
       "</div>"
      ],
      "text/plain": [
       "                               Capital           Isla  Municipios      Area  \\\n",
       "Fvisita                                                                       \n",
       "2023-01-12                    Valverde      El Hierro           3   26871.0   \n",
       "2023-10-01          Puerto del Rosario  Fuerteventura           6    1665.0   \n",
       "2023-01-01  Las Palmas de Gran Canaria   Gran Canaria          21  156010.0   \n",
       "2023-11-01  San Sebastián de La Gomera      La Gomera           6   36976.0   \n",
       "2023-01-11                    Arrecife      Lanzarote           7     888.0   \n",
       "2023-11-11      Santa Cruz de La Palma       La Palma          14   70832.0   \n",
       "2023-10-10      Santa Cruz de Tenerife       Tenerife          31  203438.0   \n",
       "\n",
       "            Poblacion   año  mes  dia    Fvisita  \n",
       "Fvisita                                           \n",
       "2023-01-12    11423.0  2023    1   12 2023-01-12  \n",
       "2023-10-01   120021.0  2023   10    1 2023-10-01  \n",
       "2023-01-01   853262.0  2023    1    1 2023-01-01  \n",
       "2023-11-01    21798.0  2023   11    1 2023-11-01  \n",
       "2023-01-11   156112.0  2023    1   11 2023-01-11  \n",
       "2023-11-11    83439.0  2023   11   11 2023-11-11  \n",
       "2023-10-10   931646.0  2023   10   10 2023-10-10  "
      ]
     },
     "execution_count": 84,
     "metadata": {},
     "output_type": "execute_result"
    }
   ],
   "source": [
    "df2[\"Fvisita\"] = pd.to_datetime(df2[\"Fvisita\"])\n",
    "df2[\"año\"] = df2[\"Fvisita\"].dt.year\n",
    "df2[\"mes\"] = df2[\"Fvisita\"].dt.month\n",
    "df2[\"dia\"] = df2[\"Fvisita\"].dt.day\n",
    "df2"
   ]
  },
  {
   "cell_type": "code",
   "execution_count": 88,
   "metadata": {},
   "outputs": [
    {
     "data": {
      "text/html": [
       "<div>\n",
       "<style scoped>\n",
       "    .dataframe tbody tr th:only-of-type {\n",
       "        vertical-align: middle;\n",
       "    }\n",
       "\n",
       "    .dataframe tbody tr th {\n",
       "        vertical-align: top;\n",
       "    }\n",
       "\n",
       "    .dataframe thead th {\n",
       "        text-align: right;\n",
       "    }\n",
       "</style>\n",
       "<table border=\"1\" class=\"dataframe\">\n",
       "  <thead>\n",
       "    <tr style=\"text-align: right;\">\n",
       "      <th></th>\n",
       "      <th>A</th>\n",
       "      <th>B</th>\n",
       "      <th>C</th>\n",
       "    </tr>\n",
       "  </thead>\n",
       "  <tbody>\n",
       "    <tr>\n",
       "      <th>0</th>\n",
       "      <td>1</td>\n",
       "      <td>4.0</td>\n",
       "      <td>7</td>\n",
       "    </tr>\n",
       "    <tr>\n",
       "      <th>1</th>\n",
       "      <td>20</td>\n",
       "      <td>NaN</td>\n",
       "      <td>8</td>\n",
       "    </tr>\n",
       "    <tr>\n",
       "      <th>2</th>\n",
       "      <td>3</td>\n",
       "      <td>7.0</td>\n",
       "      <td>9</td>\n",
       "    </tr>\n",
       "  </tbody>\n",
       "</table>\n",
       "</div>"
      ],
      "text/plain": [
       "    A    B  C\n",
       "0   1  4.0  7\n",
       "1  20  NaN  8\n",
       "2   3  7.0  9"
      ]
     },
     "execution_count": 88,
     "metadata": {},
     "output_type": "execute_result"
    }
   ],
   "source": [
    "data = { \"A\" : [1, 20, 3], \"B\" : [4, np.nan, 7], \"C\" : [7, 8, 9]}\n",
    "df = pd.DataFrame(data)\n",
    "df"
   ]
  },
  {
   "cell_type": "code",
   "execution_count": 86,
   "metadata": {},
   "outputs": [
    {
     "data": {
      "text/html": [
       "<div>\n",
       "<style scoped>\n",
       "    .dataframe tbody tr th:only-of-type {\n",
       "        vertical-align: middle;\n",
       "    }\n",
       "\n",
       "    .dataframe tbody tr th {\n",
       "        vertical-align: top;\n",
       "    }\n",
       "\n",
       "    .dataframe thead th {\n",
       "        text-align: right;\n",
       "    }\n",
       "</style>\n",
       "<table border=\"1\" class=\"dataframe\">\n",
       "  <thead>\n",
       "    <tr style=\"text-align: right;\">\n",
       "      <th></th>\n",
       "      <th>A</th>\n",
       "      <th>B</th>\n",
       "      <th>C</th>\n",
       "    </tr>\n",
       "  </thead>\n",
       "  <tbody>\n",
       "    <tr>\n",
       "      <th>0</th>\n",
       "      <td>False</td>\n",
       "      <td>False</td>\n",
       "      <td>False</td>\n",
       "    </tr>\n",
       "    <tr>\n",
       "      <th>1</th>\n",
       "      <td>False</td>\n",
       "      <td>True</td>\n",
       "      <td>False</td>\n",
       "    </tr>\n",
       "    <tr>\n",
       "      <th>2</th>\n",
       "      <td>False</td>\n",
       "      <td>False</td>\n",
       "      <td>False</td>\n",
       "    </tr>\n",
       "  </tbody>\n",
       "</table>\n",
       "</div>"
      ],
      "text/plain": [
       "       A      B      C\n",
       "0  False  False  False\n",
       "1  False   True  False\n",
       "2  False  False  False"
      ]
     },
     "execution_count": 86,
     "metadata": {},
     "output_type": "execute_result"
    }
   ],
   "source": [
    "df.isna()"
   ]
  },
  {
   "cell_type": "markdown",
   "metadata": {},
   "source": [
    "> Para borrar las columnas o las filas que contengan **NaN**"
   ]
  },
  {
   "cell_type": "code",
   "execution_count": 87,
   "metadata": {},
   "outputs": [
    {
     "data": {
      "text/html": [
       "<div>\n",
       "<style scoped>\n",
       "    .dataframe tbody tr th:only-of-type {\n",
       "        vertical-align: middle;\n",
       "    }\n",
       "\n",
       "    .dataframe tbody tr th {\n",
       "        vertical-align: top;\n",
       "    }\n",
       "\n",
       "    .dataframe thead th {\n",
       "        text-align: right;\n",
       "    }\n",
       "</style>\n",
       "<table border=\"1\" class=\"dataframe\">\n",
       "  <thead>\n",
       "    <tr style=\"text-align: right;\">\n",
       "      <th></th>\n",
       "      <th>A</th>\n",
       "      <th>C</th>\n",
       "    </tr>\n",
       "  </thead>\n",
       "  <tbody>\n",
       "    <tr>\n",
       "      <th>0</th>\n",
       "      <td>1</td>\n",
       "      <td>7</td>\n",
       "    </tr>\n",
       "    <tr>\n",
       "      <th>1</th>\n",
       "      <td>20</td>\n",
       "      <td>8</td>\n",
       "    </tr>\n",
       "    <tr>\n",
       "      <th>2</th>\n",
       "      <td>3</td>\n",
       "      <td>9</td>\n",
       "    </tr>\n",
       "  </tbody>\n",
       "</table>\n",
       "</div>"
      ],
      "text/plain": [
       "    A  C\n",
       "0   1  7\n",
       "1  20  8\n",
       "2   3  9"
      ]
     },
     "execution_count": 87,
     "metadata": {},
     "output_type": "execute_result"
    }
   ],
   "source": [
    "df = df.dropna(axis = 1)\n",
    "df"
   ]
  },
  {
   "cell_type": "markdown",
   "metadata": {},
   "source": [
    "> Para introducir en el lugar del NaN el valor medio de los valores"
   ]
  },
  {
   "cell_type": "code",
   "execution_count": 89,
   "metadata": {},
   "outputs": [
    {
     "data": {
      "text/html": [
       "<div>\n",
       "<style scoped>\n",
       "    .dataframe tbody tr th:only-of-type {\n",
       "        vertical-align: middle;\n",
       "    }\n",
       "\n",
       "    .dataframe tbody tr th {\n",
       "        vertical-align: top;\n",
       "    }\n",
       "\n",
       "    .dataframe thead th {\n",
       "        text-align: right;\n",
       "    }\n",
       "</style>\n",
       "<table border=\"1\" class=\"dataframe\">\n",
       "  <thead>\n",
       "    <tr style=\"text-align: right;\">\n",
       "      <th></th>\n",
       "      <th>A</th>\n",
       "      <th>B</th>\n",
       "      <th>C</th>\n",
       "    </tr>\n",
       "  </thead>\n",
       "  <tbody>\n",
       "    <tr>\n",
       "      <th>0</th>\n",
       "      <td>1</td>\n",
       "      <td>4.0</td>\n",
       "      <td>7</td>\n",
       "    </tr>\n",
       "    <tr>\n",
       "      <th>1</th>\n",
       "      <td>20</td>\n",
       "      <td>5.5</td>\n",
       "      <td>8</td>\n",
       "    </tr>\n",
       "    <tr>\n",
       "      <th>2</th>\n",
       "      <td>3</td>\n",
       "      <td>7.0</td>\n",
       "      <td>9</td>\n",
       "    </tr>\n",
       "  </tbody>\n",
       "</table>\n",
       "</div>"
      ],
      "text/plain": [
       "    A    B  C\n",
       "0   1  4.0  7\n",
       "1  20  5.5  8\n",
       "2   3  7.0  9"
      ]
     },
     "execution_count": 89,
     "metadata": {},
     "output_type": "execute_result"
    }
   ],
   "source": [
    "df.interpolate()"
   ]
  }
 ],
 "metadata": {
  "kernelspec": {
   "display_name": "ia",
   "language": "python",
   "name": "python3"
  },
  "language_info": {
   "codemirror_mode": {
    "name": "ipython",
    "version": 3
   },
   "file_extension": ".py",
   "mimetype": "text/x-python",
   "name": "python",
   "nbconvert_exporter": "python",
   "pygments_lexer": "ipython3",
   "version": "3.8.18"
  }
 },
 "nbformat": 4,
 "nbformat_minor": 2
}
